{
 "cells": [
  {
   "cell_type": "markdown",
   "id": "2ff46d56-82b3-4bc0-bef7-a8a3a85bc412",
   "metadata": {
    "slideshow": {
     "slide_type": "slide"
    }
   },
   "source": [
    "# (A2) 데이터시각화 강의소개\n",
    "> 강의소개\n",
    "\n",
    "- toc:true\n",
    "- branch: master\n",
    "- badges: true\n",
    "- comments: true\n",
    "- author: 최규빈"
   ]
  },
  {
   "cell_type": "markdown",
   "id": "538a4685-4d5e-4a63-9afe-15ab957bba6d",
   "metadata": {
    "slideshow": {
     "slide_type": "slide"
    }
   },
   "source": [
    "### 강의영상 "
   ]
  },
  {
   "cell_type": "markdown",
   "id": "40f06d2c-04e6-4b34-95b0-e1c5fe30c145",
   "metadata": {
    "slideshow": {
     "slide_type": "slide"
    }
   },
   "source": [
    "### 긴급공지"
   ]
  },
  {
   "cell_type": "markdown",
   "id": "d4ccc37b-62ea-43ff-8aae-a985c9a2647b",
   "metadata": {
    "slideshow": {
     "slide_type": "fragment"
    }
   },
   "source": [
    "`-` 강의실 변경: (221 $\\to$ 227 (?)) "
   ]
  },
  {
   "cell_type": "markdown",
   "id": "4935424a-9586-4c41-989e-33f57b366b13",
   "metadata": {
    "slideshow": {
     "slide_type": "fragment"
    }
   },
   "source": [
    "`-` 노트북 지참필수\n",
    "- 노트북이 없으면? 자연대 2호관 121호 빅데이터사업단, 조성균 선생님 (063-219-5627) 에게 (1) 신분증(or 학생증) (2) 시간표를 출력하여 방문할 시 한학기 동안 대여 가능 "
   ]
  },
  {
   "cell_type": "markdown",
   "id": "99460a23",
   "metadata": {
    "slideshow": {
     "slide_type": "fragment"
    }
   },
   "source": [
    "`-` 휴강: 9월5일, 7일, 12일 휴강 -> 강의영상업로드로 보충 "
   ]
  },
  {
   "cell_type": "markdown",
   "id": "a9ec96d9-3f15-40cf-b702-7a59b933e49e",
   "metadata": {
    "slideshow": {
     "slide_type": "slide"
    }
   },
   "source": [
    "### 일반공지 "
   ]
  },
  {
   "cell_type": "markdown",
   "id": "1b62107f-5e79-4e1b-af22-a55ab2404737",
   "metadata": {
    "slideshow": {
     "slide_type": "fragment"
    }
   },
   "source": [
    "`-` 강의노트는 어디에? "
   ]
  },
  {
   "cell_type": "markdown",
   "id": "7c891668-e77c-4b71-bda1-b0ee04b741e9",
   "metadata": {
    "slideshow": {
     "slide_type": "fragment"
    }
   },
   "source": [
    "`-` 학점은 어떻게? "
   ]
  },
  {
   "cell_type": "markdown",
   "id": "3ba01224-9953-4bbc-959b-66cf0a4a4467",
   "metadata": {
    "slideshow": {
     "slide_type": "fragment"
    }
   },
   "source": [
    "`-` 출석? "
   ]
  },
  {
   "cell_type": "markdown",
   "id": "14990a9a-b3d9-4fa6-b914-13f3568efeef",
   "metadata": {
    "slideshow": {
     "slide_type": "fragment"
    }
   },
   "source": [
    "`-` 질문하는 방법? ([여기로 가서 적당한 방법으로](https://guebin.github.io/DV2022/about/))"
   ]
  },
  {
   "cell_type": "markdown",
   "id": "7f587618-eed7-4a21-9e02-f6e2d66a4c5a",
   "metadata": {
    "slideshow": {
     "slide_type": "slide"
    }
   },
   "source": [
    "### 주의사항 (이 수업을 듣지 말아야 할 이유?)"
   ]
  },
  {
   "cell_type": "markdown",
   "id": "18d8451d-18c8-4000-9b63-11a9d8fb4a9d",
   "metadata": {
    "slideshow": {
     "slide_type": "fragment"
    }
   },
   "source": [
    "`-` 시험문제의 난이도"
   ]
  },
  {
   "cell_type": "markdown",
   "id": "7cd269f6-3bd8-439a-924f-66a44a411c78",
   "metadata": {
    "slideshow": {
     "slide_type": "fragment"
    }
   },
   "source": [
    "`-` 수업시간이 너무 길다 "
   ]
  },
  {
   "cell_type": "markdown",
   "id": "8e758830-b683-4a13-a929-5798e7157c7a",
   "metadata": {
    "slideshow": {
     "slide_type": "fragment"
    }
   },
   "source": [
    "`-` 재미없음 "
   ]
  },
  {
   "cell_type": "markdown",
   "id": "eadd87a1-89c7-4797-a16b-bfb234af4177",
   "metadata": {
    "slideshow": {
     "slide_type": "fragment"
    }
   },
   "source": [
    "`-` cost-effective 하지 않음.. (특히 파이썬입문을 듣지 않았다면!) "
   ]
  }
 ],
 "metadata": {
  "celltoolbar": "Slideshow",
  "kernelspec": {
   "display_name": "Python 3 (ipykernel)",
   "language": "python",
   "name": "python3"
  },
  "language_info": {
   "codemirror_mode": {
    "name": "ipython",
    "version": 3
   },
   "file_extension": ".py",
   "mimetype": "text/x-python",
   "name": "python",
   "nbconvert_exporter": "python",
   "pygments_lexer": "ipython3",
   "version": "3.7.13"
  }
 },
 "nbformat": 4,
 "nbformat_minor": 5
}
