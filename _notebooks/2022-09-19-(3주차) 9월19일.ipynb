{
 "cells": [
  {
   "cell_type": "markdown",
   "id": "4b3d4872-c3c2-42ef-b4fc-5a50cfac5674",
   "metadata": {
    "tags": []
   },
   "source": [
    "# (3주차) 9월19일\n",
    "> 라인플랏, 산점도, 여러 그림 그리기, fig와 axes의 이해\n",
    "\n",
    "- toc:true\n",
    "- branch: master\n",
    "- badges: true\n",
    "- comments: true\n",
    "- author: 최규빈"
   ]
  },
  {
   "cell_type": "markdown",
   "id": "25bfef0b-18f3-4ce4-b9fa-29f656c62e5f",
   "metadata": {},
   "source": [
    "## 강의영상 "
   ]
  },
  {
   "cell_type": "markdown",
   "id": "a07a656e-6710-46a9-87a4-53986861539d",
   "metadata": {
    "tags": []
   },
   "source": [
    "## 오늘 배울 내용? "
   ]
  },
  {
   "cell_type": "markdown",
   "id": "65a41ac8-e821-4167-8106-83f67469e058",
   "metadata": {},
   "source": [
    "`-` 라인플랏과 산점도를 그리는 방법 \n",
    "\n",
    "`-` 여러 그림그리기 (한 플랏에 그림을 겹치는 방법, subplot을 그리는 방법)\n",
    "\n",
    "`-` fig, axes의 개념이해 (객체지향적 프로그래밍) "
   ]
  },
  {
   "cell_type": "markdown",
   "id": "ae5bbc61-0895-48ce-8c65-c9acb525071e",
   "metadata": {},
   "source": [
    "## imports"
   ]
  },
  {
   "cell_type": "code",
   "execution_count": 69,
   "id": "50780ba7-f6ca-4c7a-bcd5-a6672a9a04bc",
   "metadata": {},
   "outputs": [],
   "source": [
    "import matplotlib.pyplot as plt\n",
    "import numpy as np"
   ]
  },
  {
   "cell_type": "markdown",
   "id": "3f5b1a27-570c-4cb5-acbb-b6a8351d76d7",
   "metadata": {},
   "source": [
    "## Line plot"
   ]
  },
  {
   "cell_type": "markdown",
   "id": "eb879239-8b2e-4b47-92fb-6f5bdbb8a25b",
   "metadata": {},
   "source": [
    "### 기본플랏 "
   ]
  },
  {
   "cell_type": "markdown",
   "id": "339b9a60-e5cf-42f4-bc51-1d41f0f37a87",
   "metadata": {},
   "source": [
    "`-` 예시1"
   ]
  },
  {
   "cell_type": "markdown",
   "id": "5e2d777c-4c48-43f9-a5cc-e7610608082c",
   "metadata": {},
   "source": [
    "### 모양변경 "
   ]
  },
  {
   "cell_type": "markdown",
   "id": "f6ded878-9992-477d-a077-23e273b5ba67",
   "metadata": {},
   "source": [
    "`-` 예시1"
   ]
  },
  {
   "cell_type": "markdown",
   "id": "f5e5de15-3994-4607-8413-42fa3e4e03dd",
   "metadata": {},
   "source": [
    "`-` 예시2"
   ]
  },
  {
   "cell_type": "markdown",
   "id": "e41754c2-7852-48be-8385-31f5cdbfa2a5",
   "metadata": {},
   "source": [
    "`-` 예시3"
   ]
  },
  {
   "cell_type": "markdown",
   "id": "cf57a6e8-3b0b-4142-a026-8843d60820e9",
   "metadata": {},
   "source": [
    "### 색상변경 "
   ]
  },
  {
   "cell_type": "markdown",
   "id": "67896ba5-afa8-43b8-bb0f-742ce35a9614",
   "metadata": {},
   "source": [
    "`-` 예시1"
   ]
  },
  {
   "cell_type": "markdown",
   "id": "3ed93e12-5461-4535-aa1f-730f64c0c80d",
   "metadata": {},
   "source": [
    "`-` 예시2"
   ]
  },
  {
   "cell_type": "markdown",
   "id": "40844b43-5d31-49f2-9a3e-21dfd5a2578b",
   "metadata": {},
   "source": [
    "### 모양 + 색상변경 "
   ]
  },
  {
   "cell_type": "markdown",
   "id": "873abbc7-1b34-4be5-86f5-ce954a80d073",
   "metadata": {},
   "source": [
    "`-` 예시1"
   ]
  },
  {
   "cell_type": "markdown",
   "id": "cb16b342-b136-4483-a875-339c998b757b",
   "metadata": {},
   "source": [
    "`-` 예시2: 순서변경 가능 "
   ]
  },
  {
   "cell_type": "markdown",
   "id": "0f56721e-5e2c-4b5d-b0cf-32f20afae08d",
   "metadata": {},
   "source": [
    "### 원리? "
   ]
  },
  {
   "cell_type": "markdown",
   "id": "90f45cc5-0f05-4718-9c50-5e16d5a1795a",
   "metadata": {},
   "source": [
    "`-` `r--`등의 옵션은 Markers + Line Styles + Colors 의 조합으로 표현가능 "
   ]
  },
  {
   "cell_type": "markdown",
   "id": "554c47e9-9cc7-47dc-98db-1d6dea81919d",
   "metadata": {},
   "source": [
    "ref: https://matplotlib.org/stable/api/_as_gen/matplotlib.pyplot.plot.html"
   ]
  },
  {
   "cell_type": "markdown",
   "id": "c2d43e34-795a-485e-b859-44ee6c639647",
   "metadata": {},
   "source": [
    "- `--r`: 점선스타일 + 빨간색 \n",
    "- `r--`: 빨간색 + 점선스타일 \n",
    "- `:k`: 얇은점선스타일 + 검은색\n",
    "- `k:`: 검은색 + 얇은점선스타일"
   ]
  },
  {
   "cell_type": "markdown",
   "id": "5308f49d-5a80-4e25-8011-812ed2f3e51c",
   "metadata": {},
   "source": [
    "`-` 우선 Marker를 무시하면 Line Styles + Color로 표현가능한 조합은 $4\\times 8=32$ 개"
   ]
  },
  {
   "cell_type": "markdown",
   "id": "a51d568c-90bc-452b-8410-5b7c774d43e2",
   "metadata": {},
   "source": [
    "**(Line Styles)** 모두 4개 "
   ]
  },
  {
   "cell_type": "markdown",
   "id": "a14d20a7-435d-4c27-be6a-c56801e5c4de",
   "metadata": {},
   "source": [
    "\n",
    "| character | description| \n",
    "|:-:|:-:|\n",
    "| '-' | solid line style | \n",
    "| '--' | dashed line style |\n",
    "| '-.' | dash-dot line style |\n",
    "| ':' | dotted line style|"
   ]
  },
  {
   "cell_type": "markdown",
   "id": "4222599f-72f9-4672-a8b5-f473204847c7",
   "metadata": {},
   "source": [
    "**(Color)** 모두 8개"
   ]
  },
  {
   "cell_type": "markdown",
   "id": "8c400826-a647-47d8-97d1-5f2dab04ee37",
   "metadata": {},
   "source": [
    "|character|color|\n",
    "|:-:|:-:|\n",
    "|'b'| blue| \n",
    "|'g'|green|\n",
    "|'r'|red|\n",
    "|'c'|cyan|\n",
    "|'m'|magenta|\n",
    "|'y'|yellow|\n",
    "|'k'|black|\n",
    "|'w'|white|"
   ]
  },
  {
   "cell_type": "markdown",
   "id": "6cd22e96-5ed7-4090-bf23-d9be89994d94",
   "metadata": {},
   "source": [
    "`-` 예시1"
   ]
  },
  {
   "cell_type": "markdown",
   "id": "7fd1163d-d84e-4479-8c34-728f6cd08505",
   "metadata": {},
   "source": [
    "`-` 예시2"
   ]
  },
  {
   "cell_type": "markdown",
   "id": "1a0e3a2b-636e-4399-9771-a7e8ae01b8bb",
   "metadata": {},
   "source": [
    "`-` 예시3: line style + color 조합으로 사용하든 color + line style 조합으로 사용하든 상관없음 "
   ]
  },
  {
   "cell_type": "markdown",
   "id": "43e9c59b-ea62-49dc-8338-99be15c660c5",
   "metadata": {},
   "source": [
    "`-` 예시4: line style을 중복으로 사용하거나 color를 중복으로 쓸 수 는 없다. "
   ]
  },
  {
   "cell_type": "markdown",
   "id": "b55e9b9a-3738-4faa-9ae9-5f6fb56d6d6b",
   "metadata": {},
   "source": [
    "`-` 예시5: 색이 사실 8개만 있는건 아니다. "
   ]
  },
  {
   "cell_type": "markdown",
   "id": "7b29b9eb-f9cf-4fc7-acae-1f1e2b6da5ee",
   "metadata": {},
   "source": [
    "ref: https://matplotlib.org/2.0.2/examples/color/named_colors.html"
   ]
  },
  {
   "cell_type": "markdown",
   "id": "1f027cfd-5442-4414-9c79-7088502b2a98",
   "metadata": {},
   "source": [
    "`-` 예시6: 색을 바꾸려면 Hex코드를 밖아 넣는 방법이 젤 깔끔함 "
   ]
  },
  {
   "cell_type": "markdown",
   "id": "5ed6a2db-9bd1-4349-8c2a-67037518d6bf",
   "metadata": {},
   "source": [
    "ref: https://htmlcolorcodes.com/"
   ]
  },
  {
   "cell_type": "markdown",
   "id": "a2ab3ac6-edb3-488c-a0bb-223c249a9a89",
   "metadata": {},
   "source": [
    "`-` 예시7: 당연히 라인스타일도 4개만 있진 않겠지"
   ]
  },
  {
   "cell_type": "markdown",
   "id": "1644d6f6-e43a-4845-8280-caa23d1f858a",
   "metadata": {},
   "source": [
    "ref: https://matplotlib.org/stable/gallery/lines_bars_and_markers/linestyles.html"
   ]
  },
  {
   "cell_type": "markdown",
   "id": "51085992-9dac-43c3-9ae7-f2304475d7e2",
   "metadata": {},
   "source": [
    "## Scatter plot"
   ]
  },
  {
   "cell_type": "markdown",
   "id": "db5d521f-f501-445d-8f81-bf8c81e3e330",
   "metadata": {},
   "source": [
    "### 원리 "
   ]
  },
  {
   "cell_type": "markdown",
   "id": "e85ff902-bacb-4a31-9ebf-40626d2a88e9",
   "metadata": {},
   "source": [
    "`-` 그냥 마커를 설정하면 끝!"
   ]
  },
  {
   "cell_type": "markdown",
   "id": "923caecc-f2e9-4ca0-9e85-b6da9112afc1",
   "metadata": {},
   "source": [
    "ref: https://matplotlib.org/stable/api/_as_gen/matplotlib.pyplot.plot.html"
   ]
  },
  {
   "cell_type": "markdown",
   "id": "5ae88246-98b1-49dd-8725-f20e18cfd8b9",
   "metadata": {},
   "source": [
    "|character | description|\n",
    "|:-:|:-:|\n",
    "|'.'| point marker| \n",
    "|','|pixel marker|\n",
    "|'o'|circle marker|\n",
    "|'v'| triangle_down marker |\n",
    "|'^'|triangle_up marker|\n",
    "|'<'|triangle_left marker|\n",
    "|'>'|triangle_right marker|\n",
    "|'1'|tri_down marker|\n",
    "|'2'|tri_up marker|\n",
    "|'3'|tri_left marker|\n",
    "|'4'|tri_right marker|\n",
    "|'8'|octagon marker|\n",
    "|'s'|square marker|\n",
    "|'p'|pentagon marker|\n",
    "|'P'|plus (filled) marker|\n",
    "|'*'|star marker|\n",
    "|'h'|hexagon1 marker|\n",
    "|'H'|hexagon2 marker|\n",
    "|'+'|plus marker|\n",
    "|'x'|x marker|\n",
    "|'X'|x (filled) marker|\n",
    "|'D'|diamond marker|\n",
    "|'d'|thin_diamond marker|\n",
    "|'|'|vline marker|\n",
    "|'_'|hline marker|"
   ]
  },
  {
   "cell_type": "markdown",
   "id": "bdf9b128-58f0-484f-b8fc-1f45a76558d1",
   "metadata": {},
   "source": [
    "### 기본플랏 "
   ]
  },
  {
   "cell_type": "markdown",
   "id": "cb4789f1-1b74-43b2-8380-f2e38cee276a",
   "metadata": {},
   "source": [
    "`-` 예시1"
   ]
  },
  {
   "cell_type": "markdown",
   "id": "734d1cec-facb-4461-b1f0-5a4495be3252",
   "metadata": {},
   "source": [
    "`-` 예시2"
   ]
  },
  {
   "cell_type": "markdown",
   "id": "0a2e3ac9-5025-49a3-9e70-2e3d6e179b96",
   "metadata": {},
   "source": [
    "`-` 예시3"
   ]
  },
  {
   "cell_type": "markdown",
   "id": "cd1cc87b-6f26-4624-9a04-2a7b63a59d2a",
   "metadata": {},
   "source": [
    "### 색깔변경 "
   ]
  },
  {
   "cell_type": "markdown",
   "id": "5b045a6f-b834-40de-8772-3abfd308bc21",
   "metadata": {},
   "source": [
    "`-` 예시1"
   ]
  },
  {
   "cell_type": "markdown",
   "id": "0a71b601-ed8d-4935-9ea0-ee7f2ba0aacc",
   "metadata": {},
   "source": [
    "`-` 예시2"
   ]
  },
  {
   "cell_type": "markdown",
   "id": "f96b4b3e-5587-4470-97da-42384879f20c",
   "metadata": {},
   "source": [
    "`-` 예시3"
   ]
  },
  {
   "cell_type": "markdown",
   "id": "2afc5858-b2f0-4430-9d2c-2fa1ff70389c",
   "metadata": {},
   "source": [
    "### dot-connected plot "
   ]
  },
  {
   "cell_type": "markdown",
   "id": "01f2a138-7788-4bda-8bb8-246c51992283",
   "metadata": {},
   "source": [
    "`-` 예시1: 마커와 라인스타일을 동시에 사용하면 dot-connected plot이 된다. "
   ]
  },
  {
   "cell_type": "markdown",
   "id": "94ec2446-95d7-466f-bb15-48707afc765b",
   "metadata": {},
   "source": [
    "`-` 예시2: 당연히 색도 적용가능함 "
   ]
  },
  {
   "cell_type": "markdown",
   "id": "260683f8-f230-445c-b313-312c183ede7f",
   "metadata": {},
   "source": [
    "`-` 예시3: 서로 순서를 바꿔도 상관없다. "
   ]
  },
  {
   "cell_type": "markdown",
   "id": "8d448b38-b2dd-4cb5-8cc5-87dce6b048d6",
   "metadata": {},
   "source": [
    "## 여러 그림 그리기"
   ]
  },
  {
   "cell_type": "markdown",
   "id": "0d112b1c-597c-408a-ab78-090c6133a9a1",
   "metadata": {},
   "source": [
    "### 겹쳐그리기 "
   ]
  },
  {
   "cell_type": "markdown",
   "id": "e541ad78-698c-411d-9e53-da16daf7e689",
   "metadata": {},
   "source": [
    "`-` 예시1"
   ]
  },
  {
   "cell_type": "code",
   "execution_count": null,
   "id": "a08fed68-e679-4682-9d80-c110c75e4225",
   "metadata": {},
   "outputs": [],
   "source": [
    "x = np.arange(-5,5,0.1)\n",
    "ϵ = np.random.randn(100) \n",
    "y = 2*x + ϵ"
   ]
  },
  {
   "cell_type": "markdown",
   "id": "14c27b3f-863a-41ab-a690-cf54a837b382",
   "metadata": {
    "toc-hr-collapsed": true
   },
   "source": [
    "### 따로그리기 (subplot) // 외우세요 이거"
   ]
  },
  {
   "cell_type": "markdown",
   "id": "28da6082-6f8b-44b3-abd7-1e97237c3bf6",
   "metadata": {},
   "source": [
    "`-` 예시1"
   ]
  },
  {
   "cell_type": "code",
   "execution_count": null,
   "id": "a8929c6f-93e7-4efb-bd24-30a0cb1d5638",
   "metadata": {},
   "outputs": [
    {
     "data": {
      "text/plain": [
       "[<matplotlib.lines.Line2D at 0x7f7d5462d650>]"
      ]
     },
     "execution_count": 122,
     "metadata": {},
     "output_type": "execute_result"
    }
   ],
   "source": [
    "axs[1].plot(x,y,'.') # 아래그림에는 (x,y)를 그린다. "
   ]
  },
  {
   "cell_type": "code",
   "execution_count": null,
   "id": "a8e29e44-50e3-4bb7-bdb1-93674a18c3d0",
   "metadata": {},
   "outputs": [
    {
     "data": {
      "image/png": "[encoded data removed]",
      "text/plain": [
       "<Figure size 432x288 with 2 Axes>"
      ]
     },
     "execution_count": 123,
     "metadata": {},
     "output_type": "execute_result"
    }
   ],
   "source": [
    "fig"
   ]
  },
  {
   "cell_type": "markdown",
   "id": "abfe66fc-fd49-4648-81f8-6134c722664b",
   "metadata": {},
   "source": [
    "`-` 예시2"
   ]
  },
  {
   "cell_type": "markdown",
   "id": "5775f9f2-0368-4cd6-a577-4246a7b5284d",
   "metadata": {},
   "source": [
    "## fig와 axes의 이해 : matplotlib으로 어렵게 그림을 기리는 방법"
   ]
  },
  {
   "cell_type": "markdown",
   "id": "4de4b1d5-8a4d-4038-b0a7-9ba807d8e3e1",
   "metadata": {
    "tags": []
   },
   "source": [
    "### 예제1"
   ]
  },
  {
   "cell_type": "markdown",
   "id": "c12c887f-3375-4dab-9df9-bb865c780df3",
   "metadata": {},
   "source": [
    "`-` 목표: plt.plot()을 이용하지 않고 아래의 그림을 그려보자. "
   ]
  },
  {
   "cell_type": "code",
   "execution_count": null,
   "id": "2493e580-e987-4146-b176-ce12d7d226f4",
   "metadata": {},
   "outputs": [
    {
     "data": {
      "text/plain": [
       "[<matplotlib.lines.Line2D at 0x7f7d54aeb710>]"
      ]
     },
     "execution_count": 80,
     "metadata": {},
     "output_type": "execute_result"
    },
    {
     "data": {
      "image/png": "[encoded data removed]",
      "text/plain": [
       "<Figure size 432x288 with 1 Axes>"
      ]
     },
     "metadata": {
      "needs_background": "light"
     },
     "output_type": "display_data"
    }
   ],
   "source": [
    "plt.plot([1,2,3,4],[1,2,4,3],'or')"
   ]
  },
  {
   "cell_type": "markdown",
   "id": "aade4fc4-88a7-4227-82e3-e586e6a8bd44",
   "metadata": {},
   "source": [
    "`-` 구조 axis $\\subset$ axes $\\subset$ figure"
   ]
  },
  {
   "cell_type": "markdown",
   "id": "753f08a8-a12e-4500-8c56-40fb39bc69f2",
   "metadata": {},
   "source": [
    "ref: https://matplotlib.org/stable/gallery/showcase/anatomy.html#sphx-glr-gallery-showcase-anatomy-py"
   ]
  },
  {
   "cell_type": "markdown",
   "id": "75c5a089-bd0b-4dba-ac89-fc80ffafeb63",
   "metadata": {},
   "source": [
    "![](https://matplotlib.org/stable/_images/sphx_glr_anatomy_001.png)"
   ]
  },
  {
   "cell_type": "markdown",
   "id": "d3bbbebe-3ab4-4f92-bd74-0e0393f6d130",
   "metadata": {},
   "source": [
    "`-` 전략: `Fig`을 만들고 (도화지를 준비) $\\to$ `axes`를 만들고 (네모틀) $\\to$ `axes`에 그림을 그린다. "
   ]
  },
  {
   "cell_type": "markdown",
   "id": "d7ff6fab-63ba-4319-8b0b-30ff6f0c5e64",
   "metadata": {},
   "source": [
    "`-` 그림객체를 생성한다. "
   ]
  },
  {
   "cell_type": "markdown",
   "id": "70944baf-5015-41f8-bf75-96313442f6d8",
   "metadata": {},
   "source": [
    "`-` 그림객체에는 여러 인스턴스 + 함수가 있는데 그중에서 axes도 있다. (그런데 그와중에 plot method는 없다)"
   ]
  },
  {
   "cell_type": "markdown",
   "id": "ad9fce1f-97b6-40b2-a957-fd381985c0bb",
   "metadata": {},
   "source": [
    "`-` axes 추가 "
   ]
  },
  {
   "cell_type": "markdown",
   "id": "a5c8a6c2-6b2c-49be-8b33-945bd9807038",
   "metadata": {},
   "source": [
    "`-` 첫번째 액시즈를 ax1로 받음 (원래 axes1이어야하는데 그냥 편의상)"
   ]
  },
  {
   "cell_type": "markdown",
   "id": "dc5cb846-3996-439b-9bd2-cc7f47a6836c",
   "metadata": {},
   "source": [
    "`-` 잠깐만! (fig 오브젝트와 ax1 오브젝트는 포함관계에 있다) "
   ]
  },
  {
   "cell_type": "markdown",
   "id": "770f688b-7c3f-460b-bf34-9c169b332795",
   "metadata": {},
   "source": [
    "`-` 또 잠깐만! (fig 오브젝트에는 plot이 없지만 ax1 오브젝트에는 plot이 있다) "
   ]
  },
  {
   "cell_type": "markdown",
   "id": "a870f7ed-ad65-4c69-8aa6-71e4f49a8671",
   "metadata": {},
   "source": [
    "`-` ax1.plot()을 사용하여 그림을 그려보자. "
   ]
  },
  {
   "cell_type": "markdown",
   "id": "5724a34b-3aee-42ea-a6d3-74cc8b38c787",
   "metadata": {},
   "source": [
    "### 예제2: 예제1의 응용 "
   ]
  },
  {
   "cell_type": "markdown",
   "id": "a17d2581-368b-486f-b577-12f6c1d5ed0b",
   "metadata": {},
   "source": [
    "`-` 예제1상황 "
   ]
  },
  {
   "cell_type": "markdown",
   "id": "584e3cea-1684-42c8-a97b-c7dc2f297e95",
   "metadata": {},
   "source": [
    "`-` 여기서 축을 하나 더 추가할거에요 "
   ]
  },
  {
   "cell_type": "markdown",
   "id": "31084e96-8cb8-429b-81cb-358cb0a75c1a",
   "metadata": {},
   "source": [
    "`-` ax2에 붉은선으로 그림을 그리자. "
   ]
  },
  {
   "cell_type": "markdown",
   "id": "639026f0-6437-4f53-8838-e0115b8f298d",
   "metadata": {},
   "source": [
    "### 예제3: 더 응용! (미니맵)"
   ]
  },
  {
   "cell_type": "markdown",
   "id": "1d6ec778-2ffb-4816-8bc4-cd318caa5e9f",
   "metadata": {},
   "source": [
    "`-` 지금 상황"
   ]
  },
  {
   "cell_type": "markdown",
   "id": "68b8da33-162c-4d4f-bd6e-06babd9ef22c",
   "metadata": {},
   "source": [
    "`-` 액시즈를 하나 더 추가 "
   ]
  },
  {
   "cell_type": "markdown",
   "id": "f82cd50a-fccb-402c-95da-bc19b83c772d",
   "metadata": {},
   "source": [
    "### 예제4: 재해석1"
   ]
  },
  {
   "cell_type": "markdown",
   "id": "390d309a-033f-4412-9fc9-30e533862c86",
   "metadata": {},
   "source": [
    "(ver1)"
   ]
  },
  {
   "cell_type": "code",
   "execution_count": 227,
   "id": "d945b690-f9b3-4cdd-a6f8-0d74bb7474a0",
   "metadata": {},
   "outputs": [
    {
     "data": {
      "text/plain": [
       "[<matplotlib.lines.Line2D at 0x7f7d5315a110>]"
      ]
     },
     "execution_count": 227,
     "metadata": {},
     "output_type": "execute_result"
    },
    {
     "data": {
      "image/png": "[encoded data removed]",
      "text/plain": [
       "<Figure size 432x288 with 1 Axes>"
      ]
     },
     "metadata": {
      "needs_background": "light"
     },
     "output_type": "display_data"
    }
   ],
   "source": [
    "plt.plot([1,2,3,4],[1,2,4,3])"
   ]
  },
  {
   "cell_type": "markdown",
   "id": "64d4e48e-af5b-44e6-8e7a-9baf05d5061b",
   "metadata": {},
   "source": [
    "(ver2)"
   ]
  },
  {
   "cell_type": "markdown",
   "id": "2eab5487-17c7-4fa8-8f1d-dbe4f217c5f8",
   "metadata": {},
   "source": [
    "ver1은 사실 아래가 연속적으로 실행된 축약구문임 \n",
    "```python\n",
    "fig = plt.figure() \n",
    "fig.add_axes([?,?,?,?])\n",
    "ax1 = fig.axes[0]\n",
    "ax1.plot([1,2,3,4],[1,2,4,3])\n",
    "fig\n",
    "```"
   ]
  },
  {
   "cell_type": "markdown",
   "id": "57dccffa-b3bb-4e8d-a8d5-410a02a267aa",
   "metadata": {},
   "source": [
    "### 예제5: 재해석2"
   ]
  },
  {
   "cell_type": "markdown",
   "id": "8dfcb097-380f-43e8-96bf-e289b7de158a",
   "metadata": {},
   "source": [
    "`-` 아래의 코드도 재해석하자. "
   ]
  },
  {
   "cell_type": "code",
   "execution_count": 233,
   "id": "b4bd641b-8424-4b01-9185-b8ef5290a0f7",
   "metadata": {},
   "outputs": [
    {
     "data": {
      "text/plain": [
       "[<matplotlib.lines.Line2D at 0x7f7d520c7050>]"
      ]
     },
     "execution_count": 233,
     "metadata": {},
     "output_type": "execute_result"
    },
    {
     "data": {
      "image/png": "[encoded data removed]",
      "text/plain": [
       "<Figure size 432x288 with 4 Axes>"
      ]
     },
     "metadata": {
      "needs_background": "light"
     },
     "output_type": "display_data"
    }
   ],
   "source": [
    "fig, axs = plt.subplots(2,2)\n",
    "axs[0,0].plot([1,2,3,4],[1,2,4,3],'.')\n",
    "axs[0,1].plot([1,2,3,4],[1,2,4,3],'--r')\n",
    "axs[1,0].plot([1,2,3,4],[1,2,4,3],'o--')\n",
    "axs[1,1].plot([1,2,3,4],[1,2,4,3],'o--',color='lime')"
   ]
  },
  {
   "cell_type": "markdown",
   "id": "6f93dcdb-25ed-48d9-9938-5f6a4e2fa7c5",
   "metadata": {},
   "source": [
    "`-` `fig, axs = plt.subplots(2,2)`의 축약버전을 이해하면된다. "
   ]
  },
  {
   "cell_type": "markdown",
   "id": "330b6220-d412-48ae-a379-1159143316ae",
   "metadata": {},
   "source": [
    "(ver1) "
   ]
  },
  {
   "cell_type": "code",
   "execution_count": 234,
   "id": "d275dd96-849f-47a9-8de0-de39ba26e96d",
   "metadata": {},
   "outputs": [
    {
     "data": {
      "image/png": "[encoded data removed]",
      "text/plain": [
       "<Figure size 432x288 with 4 Axes>"
      ]
     },
     "metadata": {
      "needs_background": "light"
     },
     "output_type": "display_data"
    }
   ],
   "source": [
    "fig, axs = plt.subplots(2,2)"
   ]
  },
  {
   "cell_type": "markdown",
   "id": "62edf589-277b-4288-87b6-f6bb61c3ce73",
   "metadata": {},
   "source": [
    "(ver2)"
   ]
  },
  {
   "cell_type": "markdown",
   "id": "0340a961-c472-4be3-8086-9b12d51d3cef",
   "metadata": {},
   "source": [
    "ver1은 사실 아래의 축약!"
   ]
  },
  {
   "cell_type": "markdown",
   "id": "9ec7489a-563d-46f3-8762-b24854595ce9",
   "metadata": {},
   "source": [
    "```python\n",
    "fig = plt.figure()\n",
    "fig.add_axes([?,?,?,?]) \n",
    "fig.add_axes([?,?,?,?])\n",
    "fig.add_axes([?,?,?,?])\n",
    "fig.add_axes([?,?,?,?])\n",
    "ax1,ax2,ax3,ax4 = fig.axes\n",
    "axs = ((ax1,ax2),(ax3,ax4))\n",
    "```"
   ]
  },
  {
   "cell_type": "markdown",
   "id": "f5d80e3d-adc7-4d50-93be-7881a4b9217b",
   "metadata": {},
   "source": [
    "(ver3)"
   ]
  },
  {
   "cell_type": "markdown",
   "id": "116756ca-47af-45ae-b664-a80404c1b359",
   "metadata": {},
   "source": [
    "ver1은 아래와 같이 표현할 수도 있다. "
   ]
  },
  {
   "cell_type": "code",
   "execution_count": 238,
   "id": "96d4b8f9-8e73-4e30-ae64-8a6f1d265dd6",
   "metadata": {},
   "outputs": [
    {
     "data": {
      "image/png": "[encoded data removed]",
      "text/plain": [
       "<Figure size 432x288 with 4 Axes>"
      ]
     },
     "metadata": {
      "needs_background": "light"
     },
     "output_type": "display_data"
    }
   ],
   "source": [
    "fig = plt.figure()\n",
    "axs = fig.subplots(2,2)"
   ]
  },
  {
   "cell_type": "markdown",
   "id": "0bd01a38-19d8-4d1b-a055-68198d20ffe6",
   "metadata": {},
   "source": [
    "## HW"
   ]
  }
 ],
 "metadata": {
  "kernelspec": {
   "display_name": "Python 3 (ipykernel)",
   "language": "python",
   "name": "python3"
  },
  "language_info": {
   "codemirror_mode": {
    "name": "ipython",
    "version": 3
   },
   "file_extension": ".py",
   "mimetype": "text/x-python",
   "name": "python",
   "nbconvert_exporter": "python",
   "pygments_lexer": "ipython3",
   "version": "3.7.13"
  }
 },
 "nbformat": 4,
 "nbformat_minor": 5
}
