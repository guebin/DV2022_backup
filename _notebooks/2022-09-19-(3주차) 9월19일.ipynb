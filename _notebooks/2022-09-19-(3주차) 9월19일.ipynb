{
 "cells": [
  {
   "cell_type": "markdown",
   "id": "4b3d4872-c3c2-42ef-b4fc-5a50cfac5674",
   "metadata": {
    "tags": []
   },
   "source": [
    "# (3주차) 9월19일\n",
    "> 히스토그램 응용 - 히스토그램 이퀄라이제이션\n",
    "\n",
    "- toc:true\n",
    "- branch: master\n",
    "- badges: true\n",
    "- comments: true\n",
    "- author: 최규빈"
   ]
  },
  {
   "cell_type": "markdown",
   "id": "25bfef0b-18f3-4ce4-b9fa-29f656c62e5f",
   "metadata": {},
   "source": [
    "## 강의영상 "
   ]
  }
 ],
 "metadata": {
  "kernelspec": {
   "display_name": "Python 3 (ipykernel)",
   "language": "python",
   "name": "python3"
  },
  "language_info": {
   "codemirror_mode": {
    "name": "ipython",
    "version": 3
   },
   "file_extension": ".py",
   "mimetype": "text/x-python",
   "name": "python",
   "nbconvert_exporter": "python",
   "pygments_lexer": "ipython3",
   "version": "3.7.13"
  }
 },
 "nbformat": 4,
 "nbformat_minor": 5
}
