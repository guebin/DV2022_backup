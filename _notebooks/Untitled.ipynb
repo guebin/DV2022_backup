{
 "cells": [
  {
   "cell_type": "markdown",
   "id": "de5cf00f-cd4b-4e8b-95f5-1c371643a214",
   "metadata": {
    "tags": []
   },
   "source": [
    "# (5주차) 10월6일 -- 10월3일 강의에 대한 보충 \n",
    "> seaborn(2)--scatterplot, mpl미세먼지팁(2)\n",
    "\n",
    "- toc:true\n",
    "- branch: master\n",
    "- badges: true\n",
    "- comments: true\n",
    "- author: 최규빈"
   ]
  },
  {
   "cell_type": "markdown",
   "id": "bc93551e-a7e2-43d1-bf3f-b721b1c2fbc4",
   "metadata": {},
   "source": [
    "## imports"
   ]
  },
  {
   "cell_type": "code",
   "execution_count": 1,
   "id": "c70fcf6c-7742-4977-93ab-1e5af85c07df",
   "metadata": {},
   "outputs": [],
   "source": [
    "import numpy as np\n",
    "import pandas as pd\n",
    "import matplotlib.pyplot as plt\n",
    "import seaborn as sns\n",
    "from plotnine import *"
   ]
  },
  {
   "cell_type": "markdown",
   "id": "f91db2e6-b2a7-4e14-abf7-cf0b78c2b691",
   "metadata": {},
   "source": [
    "## 훌륭한 시각화란?"
   ]
  },
  {
   "cell_type": "markdown",
   "id": "bfdd380b-29d0-4dfb-884b-6509dd4b48b4",
   "metadata": {},
   "source": [
    "### 애드워드 터프티"
   ]
  },
  {
   "cell_type": "markdown",
   "id": "5879d746-d63e-4cf6-a2cb-ff7e1dcb79be",
   "metadata": {},
   "source": [
    "`-` 데이터 시각화계의 거장 "
   ]
  },
  {
   "cell_type": "markdown",
   "id": "fd4601f4-7729-4d08-a2eb-6321dbefc2c1",
   "metadata": {},
   "source": [
    "`-` 터프티의 이론중 백미: 엄격한 미니멀리즘 \n",
    "- 최소한의 잉크로 많은 정보를 전달할 수 있다면 그것이 바로 좋은 그래프이다. \n",
    "- 작은 지면 내에서 잉크를 최대한 적게 써서 짧은 시간 안에 많은 영감을 주어야 한다. "
   ]
  },
  {
   "cell_type": "markdown",
   "id": "6a17ff6c-ef5d-4ea4-b449-62d7d0b318f7",
   "metadata": {},
   "source": [
    "`-` 데이터-잉크비: 데이터를 표현하는데 들아가는 잉크의 양 / 그래픽을 인쇄하는데 들어가는 잉크의 총량"
   ]
  },
  {
   "cell_type": "markdown",
   "id": "5b1043f3-4502-487a-85b0-cbf3b02fc79a",
   "metadata": {},
   "source": [
    "`-` 차트정크 (나이젤홈즈의 그래프)"
   ]
  },
  {
   "cell_type": "markdown",
   "id": "a09e6496-7d4c-4a0f-ba4c-d5d53008d0e0",
   "metadata": {},
   "source": [
    "![](https://github.com/guebin/2021DV/blob/master/_notebooks/2021-10-06-fig1.jpeg?raw=true \"그림1: <타임>에 수록된 나이젤홈즈의 작품\")"
   ]
  },
  {
   "cell_type": "markdown",
   "id": "9328ccf3-de46-4bc2-bc3d-29e25a2cffe1",
   "metadata": {},
   "source": [
    ">  “Lurking behind chartjunk is contempt both for information and for the audience. Chartjunk promoters imagine that numbers and details are boring, dull, and tedious, requiring ornament to enliven. Cosmetic decoration, which frequently distorts the data, will never salvage an underlying lack of content. If the numbers are boring, then you’ve got the wrong numbers (...) Worse is contempt for our audience, designing as if readers were obtuse and uncaring. In fact, consumers of graphics are often more intelligent about the information at hand than those who fabricate the data decoration (...) The operating moral premise of information design should be that our readers are alert and caring; they may be busy, eager to get on with it, but they are not stupid.”"
   ]
  },
  {
   "cell_type": "markdown",
   "id": "7d7360db-055e-4581-b5cc-a09ae95dfb7c",
   "metadata": {},
   "source": [
    "- 차트정크 = 대중을 멸시 + 데이터에 대한 모독\n",
    "- 차트정크 옹호가는 숫자와 데이터가 지루하여 활기가 필요하다고 생각하는 모양이다.. "
   ]
  },
  {
   "cell_type": "markdown",
   "id": "4eda3d83-35d7-47bf-9559-b76651c9266f",
   "metadata": {},
   "source": [
    "`-` 별로인 그래프 (왼쪽) / 우수한 그래프 오른쪽 "
   ]
  },
  {
   "cell_type": "markdown",
   "id": "23dfb4f2-1cf1-4589-9c13-c06e7a5f420d",
   "metadata": {},
   "source": [
    "![](https://github.com/guebin/2021DV/blob/master/_notebooks/2021-10-05-fig2.jpeg?raw=true)"
   ]
  },
  {
   "cell_type": "markdown",
   "id": "bf42778b-b7e2-47a3-8f8f-04e82ba71f90",
   "metadata": {},
   "source": [
    "`-` 별로인 그래프 (왼쪽) / 우수한 그래프 오른쪽 "
   ]
  },
  {
   "cell_type": "markdown",
   "id": "3b267d64-8ed1-4d1b-a903-9696e2cc9211",
   "metadata": {},
   "source": [
    "![](https://github.com/guebin/2021DV/blob/master/_notebooks/2021-10-05-fig3.jpeg?raw=true)"
   ]
  },
  {
   "cell_type": "markdown",
   "id": "aee1452c-a50c-4128-9500-1c9647d73833",
   "metadata": {},
   "source": [
    "`-` 별로인 그래프 (왼쪽) / 우수한 그래프 오른쪽 "
   ]
  },
  {
   "cell_type": "markdown",
   "id": "8253d5bf-b053-4ec3-81f9-1ac1f8cfd0c5",
   "metadata": {},
   "source": [
    "![](https://github.com/guebin/2021DV/blob/master/_notebooks/2021-10-05-fig4.jpeg?raw=true)"
   ]
  },
  {
   "cell_type": "markdown",
   "id": "f91fe38a-4d3b-4e8f-a317-4b635903c516",
   "metadata": {},
   "source": [
    "`-` 제 생각: 글쎄... "
   ]
  },
  {
   "cell_type": "markdown",
   "id": "15a618c0-93b9-46e1-8156-bb2faf9b0977",
   "metadata": {},
   "source": [
    "### 찰스미나드의 도표 \n",
    "- 인류역사상 가장 훌륭한 시각화"
   ]
  },
  {
   "cell_type": "markdown",
   "id": "11c4ea4a-49c2-4e38-a8f0-1753665a6295",
   "metadata": {},
   "source": [
    "![](https://upload.wikimedia.org/wikipedia/commons/2/29/Minard.png)"
   ]
  },
  {
   "cell_type": "markdown",
   "id": "a09e3dc2-b8fa-47de-818f-d0799ef39a6a",
   "metadata": {},
   "source": [
    "`-` 터프티의 평 \n",
    "- 지금까지 그려진 최고의 통계 그래픽일지도 모른다. \n",
    "- 여기에서는 군대의 크기, 2차원 평면상의 위치, 군대의 이동방향, 모스코바에서 퇴각하는 동안의 여러날짜, 온도 $\\to$ 6차원의 변수\n",
    "- 백만번에 한번 이런 그림을 그릴수는 있겠지만 이러한 멋진 그래픽을 만드는 방법에 대한 원칙은 없다. $\\to$ 미니멀리즘.."
   ]
  },
  {
   "cell_type": "markdown",
   "id": "f81e05bb-7435-4665-a1d6-56ae3421f421",
   "metadata": {},
   "source": [
    "`-` 왜 우수한 그래프일까? \n",
    "- 자료를 파악하는 기법은 최근까지도 산점도, 막대그래프, 라인플랏에 의존 \n",
    "- 이러한 플랏의 단점은 고차원의 자료를 분석하기 어렵다는 것임 \n",
    "- 미나드는 여러그램을 그리는 방법 대신에 한 그림에서 패널을 늘리는 방법을 선택함. "
   ]
  }
 ],
 "metadata": {
  "kernelspec": {
   "display_name": "Python 3 (ipykernel)",
   "language": "python",
   "name": "python3"
  },
  "language_info": {
   "codemirror_mode": {
    "name": "ipython",
    "version": 3
   },
   "file_extension": ".py",
   "mimetype": "text/x-python",
   "name": "python",
   "nbconvert_exporter": "python",
   "pygments_lexer": "ipython3",
   "version": "3.7.13"
  }
 },
 "nbformat": 4,
 "nbformat_minor": 5
}
