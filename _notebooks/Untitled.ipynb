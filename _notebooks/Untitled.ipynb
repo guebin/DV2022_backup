{
 "cells": [
  {
   "cell_type": "markdown",
   "id": "2ff46d56-82b3-4bc0-bef7-a8a3a85bc412",
   "metadata": {},
   "source": [
    "# (1주차) 9월5일 \n",
    "> 강의소개\n",
    "\n",
    "- toc:true\n",
    "- branch: master\n",
    "- badges: true\n",
    "- comments: true\n",
    "- author: 최규빈"
   ]
  },
  {
   "cell_type": "markdown",
   "id": "538a4685-4d5e-4a63-9afe-15ab957bba6d",
   "metadata": {},
   "source": [
    "### 강의영상 "
   ]
  },
  {
   "cell_type": "markdown",
   "id": "40f06d2c-04e6-4b34-95b0-e1c5fe30c145",
   "metadata": {},
   "source": [
    "### 긴급공지"
   ]
  },
  {
   "cell_type": "markdown",
   "id": "d4ccc37b-62ea-43ff-8aae-a985c9a2647b",
   "metadata": {},
   "source": [
    "`-` 강의실 변경: (221 $\\to$ 227 (?)) "
   ]
  },
  {
   "cell_type": "markdown",
   "id": "4935424a-9586-4c41-989e-33f57b366b13",
   "metadata": {},
   "source": [
    "`-` 노트북 지참필수\n",
    "- 노트북이 없으면? 자연대 2호관 121호 빅데이터사업단, 조성균 선생님 (063-219-5627) 에게 (1) 신분증(or 학생증) (2) 시간표를 출력하여 방문할 시 한학기 동안 대여 가능 "
   ]
  },
  {
   "cell_type": "markdown",
   "id": "a9ec96d9-3f15-40cf-b702-7a59b933e49e",
   "metadata": {},
   "source": [
    "### 일반공지 "
   ]
  },
  {
   "cell_type": "markdown",
   "id": "1b62107f-5e79-4e1b-af22-a55ab2404737",
   "metadata": {},
   "source": [
    "`-` 강의노트는 어디에? "
   ]
  },
  {
   "cell_type": "markdown",
   "id": "7c891668-e77c-4b71-bda1-b0ee04b741e9",
   "metadata": {},
   "source": [
    "`-` 학점은 어떻게? "
   ]
  },
  {
   "cell_type": "markdown",
   "id": "3ba01224-9953-4bbc-959b-66cf0a4a4467",
   "metadata": {},
   "source": [
    "`-` 출석? "
   ]
  },
  {
   "cell_type": "markdown",
   "id": "14990a9a-b3d9-4fa6-b914-13f3568efeef",
   "metadata": {},
   "source": [
    "`-` 질문하는 방법? ([여기로 가서 적당한 방법으로](https://guebin.github.io/DV2022/about/))"
   ]
  },
  {
   "cell_type": "markdown",
   "id": "7f587618-eed7-4a21-9e02-f6e2d66a4c5a",
   "metadata": {},
   "source": [
    "### 주의사항 (이 수업을 듣지 말아야 할 이유?)"
   ]
  },
  {
   "cell_type": "markdown",
   "id": "18d8451d-18c8-4000-9b63-11a9d8fb4a9d",
   "metadata": {},
   "source": [
    "`-` 시험문제의 난이도"
   ]
  },
  {
   "cell_type": "markdown",
   "id": "7cd269f6-3bd8-439a-924f-66a44a411c78",
   "metadata": {},
   "source": [
    "`-` 수업시간이 너무 길다 "
   ]
  },
  {
   "cell_type": "markdown",
   "id": "8e758830-b683-4a13-a929-5798e7157c7a",
   "metadata": {},
   "source": [
    "`-` 재미없음 "
   ]
  },
  {
   "cell_type": "markdown",
   "id": "eadd87a1-89c7-4797-a16b-bfb234af4177",
   "metadata": {},
   "source": [
    "`-` cost-effective 하지 않음.. (특히 파이썬입문을 듣지 않았다면!) "
   ]
  },
  {
   "cell_type": "markdown",
   "id": "37e34de7-eeef-4868-9b3c-18bfab39307e",
   "metadata": {},
   "source": [
    "### 수업의 범위 "
   ]
  },
  {
   "cell_type": "markdown",
   "id": "02c85d5a-c807-458c-9dce-68f93bf93c3f",
   "metadata": {},
   "source": [
    "`-` 데이터 시각화라는 과목은 다루기가 좀 어려워요 "
   ]
  },
  {
   "cell_type": "markdown",
   "id": "bed21c2e-07f6-44e3-b1aa-2aa959ff8503",
   "metadata": {},
   "source": [
    "#### $\\ast$ 통계학과"
   ]
  },
  {
   "cell_type": "markdown",
   "id": "1964b90d-1a13-4800-aee2-352838cdc671",
   "metadata": {},
   "source": [
    "`-` 느낌"
   ]
  },
  {
   "cell_type": "markdown",
   "id": "103f0e3e-3da8-46ac-b658-589fc871ed86",
   "metadata": {},
   "source": [
    "`-` 예시"
   ]
  },
  {
   "cell_type": "markdown",
   "id": "c9b3ba5c-a989-43ae-813f-a9de1ffa1d01",
   "metadata": {},
   "source": [
    "`-` 툴"
   ]
  },
  {
   "cell_type": "markdown",
   "id": "d11c2eed-5f37-4247-8ed4-02498eb39e50",
   "metadata": {},
   "source": [
    "`-` 칭찬"
   ]
  },
  {
   "cell_type": "markdown",
   "id": "92a3dec5-298b-4deb-837d-c41241af15c0",
   "metadata": {},
   "source": [
    "#### $\\ast$ 컴퓨터공학과 "
   ]
  },
  {
   "cell_type": "markdown",
   "id": "3a071c9d-682a-4418-a1a6-1e9a42d22f67",
   "metadata": {},
   "source": [
    "`-` 느낌"
   ]
  },
  {
   "cell_type": "markdown",
   "id": "4a063524-6563-440b-8ef5-bde3181b076c",
   "metadata": {},
   "source": [
    "`-` 예시"
   ]
  },
  {
   "cell_type": "markdown",
   "id": "0d921ea0-1953-48e3-8455-eba3bc96d3b4",
   "metadata": {},
   "source": [
    "`-` 툴 "
   ]
  },
  {
   "cell_type": "markdown",
   "id": "47c0346e-373e-4f5f-80ad-d77629eb0dab",
   "metadata": {},
   "source": [
    "`-` 칭찬 "
   ]
  },
  {
   "cell_type": "markdown",
   "id": "f340dcee-e506-49d4-9a4f-33a0f8bc2cbe",
   "metadata": {},
   "source": [
    "#### $\\ast$ 시각디자인 "
   ]
  },
  {
   "cell_type": "markdown",
   "id": "f5cf776d-c927-498d-a90b-f15143980e02",
   "metadata": {},
   "source": [
    "`-` 느낌 "
   ]
  },
  {
   "cell_type": "markdown",
   "id": "a889432b-c55e-45bc-af16-498ed9e4e35e",
   "metadata": {},
   "source": [
    "`-` 예시"
   ]
  },
  {
   "cell_type": "markdown",
   "id": "fd10f3b9-5e49-466f-be0c-2694fbd3cf61",
   "metadata": {},
   "source": [
    "`-` 툴"
   ]
  },
  {
   "cell_type": "markdown",
   "id": "08f647fa-8c0d-4fb8-a6c2-1584433e8fd9",
   "metadata": {},
   "source": [
    "`-` 칭찬 "
   ]
  },
  {
   "cell_type": "markdown",
   "id": "f3e029d8-f085-48cf-8bed-fae713af1a7a",
   "metadata": {},
   "source": [
    "#### $\\ast$ 학원"
   ]
  },
  {
   "cell_type": "markdown",
   "id": "ae18551b-9df8-40bd-ad7b-4671d12ced03",
   "metadata": {},
   "source": [
    "`-` 느낌 "
   ]
  },
  {
   "cell_type": "markdown",
   "id": "f0a7e80a-8ad4-47ae-b9ed-3bfb66696b38",
   "metadata": {},
   "source": [
    "`-` 예시"
   ]
  },
  {
   "cell_type": "markdown",
   "id": "a93c5d12-da8a-4343-a17e-867f91106ad5",
   "metadata": {},
   "source": [
    "`-` 툴 "
   ]
  },
  {
   "cell_type": "markdown",
   "id": "c1c34475-4545-4224-b5de-32700ef06d21",
   "metadata": {},
   "source": [
    "`-` 칭찬 "
   ]
  },
  {
   "cell_type": "markdown",
   "id": "8287df07-b7d7-4204-b315-97d2fef86f47",
   "metadata": {},
   "source": [
    "***우리의 강의는 통계학과의 시각화 과목을 중심 + 컴퓨터공학/시각디자인의 관점도 포함*** "
   ]
  },
  {
   "cell_type": "markdown",
   "id": "a67d5ef0-3104-42c7-98b6-c2f328c33bb4",
   "metadata": {},
   "source": [
    "### 강의계획서 "
   ]
  },
  {
   "cell_type": "markdown",
   "id": "0ad63d9c-2855-4199-8a4c-21e3c3ec943f",
   "metadata": {},
   "source": [
    "`-` 강의계획서 보기 "
   ]
  },
  {
   "cell_type": "code",
   "execution_count": null,
   "id": "9d143df9-08c0-4d66-8a49-147d35620290",
   "metadata": {},
   "outputs": [],
   "source": []
  }
 ],
 "metadata": {
  "kernelspec": {
   "display_name": "Python 3 (ipykernel)",
   "language": "python",
   "name": "python3"
  },
  "language_info": {
   "codemirror_mode": {
    "name": "ipython",
    "version": 3
   },
   "file_extension": ".py",
   "mimetype": "text/x-python",
   "name": "python",
   "nbconvert_exporter": "python",
   "pygments_lexer": "ipython3",
   "version": "3.7.13"
  }
 },
 "nbformat": 4,
 "nbformat_minor": 5
}
