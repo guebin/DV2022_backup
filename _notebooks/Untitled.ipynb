{
 "cells": [
  {
   "cell_type": "markdown",
   "id": "c90c7410-0459-45a7-9cf9-11da451ab699",
   "metadata": {},
   "source": [
    "# 데이터시각화 중간고사 예상문제 (ver 0.1)"
   ]
  },
  {
   "cell_type": "markdown",
   "id": "d31fc38a-526e-474b-b9b0-2628532c5bf6",
   "metadata": {},
   "source": [
    "## `1`. 데이터 시각화와 통계적 해석 (10점)"
   ]
  },
  {
   "cell_type": "markdown",
   "id": "1e007de2-96f4-4530-aaed-488193489212",
   "metadata": {},
   "source": [
    "- 2021년 중간고사 1,3,4와 비슷한 유형 "
   ]
  },
  {
   "cell_type": "markdown",
   "id": "47c7227f-b9db-4bf2-8392-8edf9a3d60fe",
   "metadata": {},
   "source": [
    "## `2`. matplotlib, seaborn을 이용한 시각화 (20점)"
   ]
  },
  {
   "cell_type": "markdown",
   "id": "03dfc434-5931-4c05-9d5e-6f00c394b7af",
   "metadata": {},
   "source": [
    "- 2021년 중간고사 2번과 비슷한 유형"
   ]
  },
  {
   "cell_type": "markdown",
   "id": "6c25a125-f269-4382-8f98-256e995dddc2",
   "metadata": {},
   "source": [
    "## `3`. 자료분석 및 시각화 I (50점)"
   ]
  },
  {
   "cell_type": "markdown",
   "id": "fadaedd3-2f26-489f-a6ec-e799084037c2",
   "metadata": {},
   "source": [
    "- 2021년 중간고사 5번과 비슷한 유형 "
   ]
  },
  {
   "cell_type": "markdown",
   "id": "ce0486ba-a742-4a51-b8ab-05b0df305812",
   "metadata": {},
   "source": [
    "## `4`. 자료분석 및 시각화 II (20점) "
   ]
  },
  {
   "cell_type": "markdown",
   "id": "37c0b1b9-5ebb-4684-af43-303ce54ce798",
   "metadata": {},
   "source": [
    "- 2021년 중간고사 6번과 비슷한 유형 "
   ]
  }
 ],
 "metadata": {
  "kernelspec": {
   "display_name": "Python 3 (ipykernel)",
   "language": "python",
   "name": "python3"
  },
  "language_info": {
   "codemirror_mode": {
    "name": "ipython",
    "version": 3
   },
   "file_extension": ".py",
   "mimetype": "text/x-python",
   "name": "python",
   "nbconvert_exporter": "python",
   "pygments_lexer": "ipython3",
   "version": "3.7.13"
  }
 },
 "nbformat": 4,
 "nbformat_minor": 5
}
