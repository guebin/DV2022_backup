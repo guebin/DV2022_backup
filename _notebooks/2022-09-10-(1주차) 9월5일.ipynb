{
 "cells": [
  {
   "cell_type": "markdown",
   "id": "b7f365b7-f6a0-403e-81ad-d630314885dd",
   "metadata": {
    "tags": []
   },
   "source": [
    "# (1주차) 9월5일에 대한 보강\n",
    "> 박스플랏, 히스토그램 \n",
    "\n",
    "- toc:true\n",
    "- branch: master\n",
    "- badges: true\n",
    "- comments: true\n",
    "- author: 최규빈"
   ]
  },
  {
   "cell_type": "markdown",
   "id": "8780e552-e84a-477d-9fed-aae3dc4c66fc",
   "metadata": {
    "tags": []
   },
   "source": [
    "## import "
   ]
  },
  {
   "cell_type": "code",
   "execution_count": 15,
   "id": "9bcac863-f96c-4a65-95b1-3d846a5ca2e5",
   "metadata": {},
   "outputs": [],
   "source": [
    "import matplotlib.pyplot as plt \n",
    "import numpy as np "
   ]
  },
  {
   "cell_type": "markdown",
   "id": "8f267485-eb9e-4dd0-ab48-6caa24b9b730",
   "metadata": {
    "tags": []
   },
   "source": [
    "## boxplot "
   ]
  },
  {
   "cell_type": "markdown",
   "id": "22787db2-538f-45f0-a2e8-de0c4b64216c",
   "metadata": {},
   "source": [
    "### motivating example"
   ]
  },
  {
   "cell_type": "markdown",
   "id": "a7a3274b-a636-457c-84b8-de5fdfcf7b97",
   "metadata": {},
   "source": [
    "**(예제1) 전북고등학교: 평균은 좋은 측정값인가?**"
   ]
  },
  {
   "cell_type": "markdown",
   "id": "2fc4e9b7-600d-4788-bffb-58137f246664",
   "metadata": {},
   "source": [
    "`-` 전북고등학교에서 통계학을 수업하는 A선생님과 B선생님의 있다. A선생님에게서 수업을 들을 학생들의 평균은 79.1이고 B선생님에게서 수업을 들은 학생들의 평균은 78.3이다. "
   ]
  },
  {
   "cell_type": "code",
   "execution_count": 23,
   "id": "3b3d638c-aa8a-4294-83d5-bd30f5dfdbc7",
   "metadata": {},
   "outputs": [],
   "source": [
    "y1=[75,75,76,76,77,77,79,79,79,98] # A선생님에게 통계학을 배운 학생의 점수들\n",
    "y2=[76,76,77,77,78,78,80,80,80,81] # B선생님에게 통계학을 배운 학생의 점수들 "
   ]
  },
  {
   "cell_type": "code",
   "execution_count": 24,
   "id": "2248e2d8-bf8d-42db-96cf-fbf515f81fdf",
   "metadata": {},
   "outputs": [
    {
     "data": {
      "text/plain": [
       "(79.1, 78.3)"
      ]
     },
     "execution_count": 24,
     "metadata": {},
     "output_type": "execute_result"
    }
   ],
   "source": [
    "np.mean(y1),np.mean(y2)"
   ]
  },
  {
   "cell_type": "markdown",
   "id": "98427c10-735a-4d94-ac5e-51025f988b57",
   "metadata": {},
   "source": [
    "`-` 의사결정: A선생님에게 배운 학생들의 실력이 평균적으로 더 좋을 것이다. "
   ]
  },
  {
   "cell_type": "markdown",
   "id": "7d7c2fb9-3159-42b6-ae3f-78cf9f218d03",
   "metadata": {},
   "source": [
    "`-` 평균은 A반(=A선생님에게 통계학을 배운 반)이 더 높다. 그런데 98점을 받은 학생이 A반에 포함되어서 A반이 전체평균이 높게 나온것이고 나머지 학생들은 전체적으로 B반 학생들이 더 시험을 잘 보았다고 해석할 수 있다."
   ]
  },
  {
   "cell_type": "markdown",
   "id": "51f3fe3f-4be0-4ce3-9861-abd951b79e0a",
   "metadata": {},
   "source": [
    "`-` 교훈: 단순한 평균비교보다 학생들이 받은 점수의 분포를 비교해보는 것이 중요하다. 분포를 살펴보는 방법 중 유용한 방법이 박스플랏이다. "
   ]
  },
  {
   "cell_type": "markdown",
   "id": "93906324-1aa6-4a93-a550-47996fd1d357",
   "metadata": {},
   "source": [
    "### matplotlib으로 boxplot 그리기"
   ]
  },
  {
   "cell_type": "markdown",
   "id": "c25bb7e8-b41d-4919-9a3e-dbebbe1762c0",
   "metadata": {},
   "source": [
    "`-` A반 학생들의 박스플랏 그리기"
   ]
  },
  {
   "cell_type": "code",
   "execution_count": 25,
   "id": "09e2659c-987d-47a8-a98d-a618b6ac0cc5",
   "metadata": {},
   "outputs": [
    {
     "data": {
      "text/plain": [
       "{'whiskers': [<matplotlib.lines.Line2D at 0x7f5f75755390>,\n",
       "  <matplotlib.lines.Line2D at 0x7f5f757555d0>],\n",
       " 'caps': [<matplotlib.lines.Line2D at 0x7f5f75755950>,\n",
       "  <matplotlib.lines.Line2D at 0x7f5f75755c50>],\n",
       " 'boxes': [<matplotlib.lines.Line2D at 0x7f5f75755110>],\n",
       " 'medians': [<matplotlib.lines.Line2D at 0x7f5f75766050>],\n",
       " 'fliers': [<matplotlib.lines.Line2D at 0x7f5f75766350>],\n",
       " 'means': []}"
      ]
     },
     "execution_count": 25,
     "metadata": {},
     "output_type": "execute_result"
    },
    {
     "data": {
      "image/png": "[encoded data removed]",
      "text/plain": [
       "<Figure size 432x288 with 1 Axes>"
      ]
     },
     "metadata": {
      "needs_background": "light"
     },
     "output_type": "display_data"
    }
   ],
   "source": [
    "plt.boxplot(y1)"
   ]
  },
  {
   "cell_type": "markdown",
   "id": "e1047ff4-1ef6-4223-adce-36c899d1eb8c",
   "metadata": {},
   "source": [
    "`-` B반 학생들의 박스플랏 그리기"
   ]
  },
  {
   "cell_type": "code",
   "execution_count": 26,
   "id": "d1730273-fb74-4173-b6bd-652a2f8803d4",
   "metadata": {},
   "outputs": [
    {
     "data": {
      "text/plain": [
       "{'whiskers': [<matplotlib.lines.Line2D at 0x7f5f748e7690>,\n",
       "  <matplotlib.lines.Line2D at 0x7f5f748e79d0>],\n",
       " 'caps': [<matplotlib.lines.Line2D at 0x7f5f748e7d10>,\n",
       "  <matplotlib.lines.Line2D at 0x7f5f748f8090>],\n",
       " 'boxes': [<matplotlib.lines.Line2D at 0x7f5f748e7390>],\n",
       " 'medians': [<matplotlib.lines.Line2D at 0x7f5f748f8410>],\n",
       " 'fliers': [<matplotlib.lines.Line2D at 0x7f5f748f8750>],\n",
       " 'means': []}"
      ]
     },
     "execution_count": 26,
     "metadata": {},
     "output_type": "execute_result"
    },
    {
     "data": {
      "image/png": "[encoded data removed]",
      "text/plain": [
       "<Figure size 432x288 with 1 Axes>"
      ]
     },
     "metadata": {
      "needs_background": "light"
     },
     "output_type": "display_data"
    }
   ],
   "source": [
    "plt.boxplot(y2)"
   ]
  },
  {
   "cell_type": "markdown",
   "id": "d30d0bc1-a407-49ff-8341-2c1c6ec3b388",
   "metadata": {},
   "source": [
    "`-` A반 학생들의 점수와 B반 학생들의 점수를 나란히 박스플랏으로 그리자. "
   ]
  },
  {
   "cell_type": "code",
   "execution_count": 29,
   "id": "56a2987f-d5a5-4d79-a098-6f6e197aa89a",
   "metadata": {},
   "outputs": [
    {
     "data": {
      "text/plain": [
       "{'whiskers': [<matplotlib.lines.Line2D at 0x7f5f74700510>,\n",
       "  <matplotlib.lines.Line2D at 0x7f5f74700750>,\n",
       "  <matplotlib.lines.Line2D at 0x7f5f7471eb50>,\n",
       "  <matplotlib.lines.Line2D at 0x7f5f7471ee50>],\n",
       " 'caps': [<matplotlib.lines.Line2D at 0x7f5f74700a90>,\n",
       "  <matplotlib.lines.Line2D at 0x7f5f74700dd0>,\n",
       "  <matplotlib.lines.Line2D at 0x7f5f747371d0>,\n",
       "  <matplotlib.lines.Line2D at 0x7f5f74737510>],\n",
       " 'boxes': [<matplotlib.lines.Line2D at 0x7f5f74700250>,\n",
       "  <matplotlib.lines.Line2D at 0x7f5f7471e810>],\n",
       " 'medians': [<matplotlib.lines.Line2D at 0x7f5f7471e190>,\n",
       "  <matplotlib.lines.Line2D at 0x7f5f74737850>],\n",
       " 'fliers': [<matplotlib.lines.Line2D at 0x7f5f7471e4d0>,\n",
       "  <matplotlib.lines.Line2D at 0x7f5f74737b90>],\n",
       " 'means': []}"
      ]
     },
     "execution_count": 29,
     "metadata": {},
     "output_type": "execute_result"
    },
    {
     "data": {
      "image/png": "[encoded data removed]",
      "text/plain": [
       "<Figure size 432x288 with 1 Axes>"
      ]
     },
     "metadata": {
      "needs_background": "light"
     },
     "output_type": "display_data"
    }
   ],
   "source": [
    "plt.boxplot([y1,y2])"
   ]
  },
  {
   "cell_type": "markdown",
   "id": "66dec253-a97e-4f3b-896f-a13428daa4c6",
   "metadata": {},
   "source": [
    "### boxplot이란? "
   ]
  },
  {
   "cell_type": "markdown",
   "id": "72473555-e1aa-4a4c-a205-84d14be8087d",
   "metadata": {},
   "source": [
    "`-` ref: https://github.com/mGalarnyk/Python_Tutorials/blob/master/Statistics/boxplot/box_plot.ipynb"
   ]
  },
  {
   "cell_type": "code",
   "execution_count": null,
   "id": "b29e51b3-c4e5-4a2e-b805-b7451422f821",
   "metadata": {},
   "outputs": [
    {
     "data": {
      "image/png": "[encoded data removed]",
      "text/plain": [
       "<Figure size 720x360 with 1 Axes>"
      ]
     },
     "metadata": {
      "needs_background": "light"
     },
     "output_type": "display_data"
    }
   ],
   "source": [
    "#collapese\n",
    "np.random.seed(916170)\n",
    "\n",
    "# connection path is here: https://stackoverflow.com/questions/6146290/plotting-a-line-over-several-graphs\n",
    "mu, sigma = 0, 1 # mean and standard deviation\n",
    "s = np.random.normal(mu, sigma, 1000)\n",
    "\n",
    "fig, axes = plt.subplots(nrows = 1, ncols = 1, figsize=(10, 5))\n",
    "\n",
    "# rectangular box plot\n",
    "bplot = axes.boxplot(s,\n",
    "                vert=False,\n",
    "                patch_artist=True, \n",
    "                showfliers=True, # This would show outliers (the remaining .7% of the data)\n",
    "                positions = [0],\n",
    "                boxprops = dict(linestyle='--', linewidth=2, color='Black', facecolor = 'red', alpha = .4),\n",
    "                medianprops = dict(linestyle='-', linewidth=2, color='Yellow'),\n",
    "                whiskerprops = dict(linestyle='-', linewidth=2, color='Blue', alpha = .4),\n",
    "                capprops = dict(linestyle='-', linewidth=2, color='Black'),\n",
    "                flierprops = dict(marker='o', markerfacecolor='green', markersize=10,\n",
    "                  linestyle='none', alpha = .4),\n",
    "                widths = .3,\n",
    "                zorder = 1)   \n",
    "\n",
    "axes.set_xlim(-4, 4)\n",
    "plt.xticks(fontsize = 14)\n",
    "\n",
    "axes.set_yticks([])\n",
    "axes.annotate(r'',\n",
    "            xy=(-.73, .205), xycoords='data',\n",
    "            xytext=(.66, .205), textcoords='data',\n",
    "            arrowprops=dict(arrowstyle=\"|-|\",\n",
    "                            connectionstyle=\"arc3\")\n",
    "            );\n",
    "\n",
    "axes.text(0, .25, \"Interquartile Range \\n(IQR)\",  horizontalalignment='center', fontsize=18)\n",
    "axes.text(0, -.21, r\"Median\", horizontalalignment='center', fontsize=16);\n",
    "axes.text(2.65, -.15, \"\\\"Maximum\\\"\", horizontalalignment='center', fontsize=18);\n",
    "axes.text(-2.65, -.15, \"\\\"Minimum\\\"\", horizontalalignment='center', fontsize=18);\n",
    "axes.text(-.68, -.24, r\"Q1\", horizontalalignment='center', fontsize=18);\n",
    "axes.text(-2.65, -.21, r\"(Q1 - 1.5*IQR)\", horizontalalignment='center', fontsize=16);\n",
    "axes.text(.6745, -.24, r\"Q3\", horizontalalignment='center', fontsize=18);\n",
    "axes.text(.6745, -.30, r\"(75th Percentile)\", horizontalalignment='center', fontsize=12);\n",
    "axes.text(-.68, -.30, r\"(25th Percentile)\", horizontalalignment='center', fontsize=12);\n",
    "axes.text(2.65, -.21, r\"(Q3 + 1.5*IQR)\", horizontalalignment='center', fontsize=16);\n",
    "\n",
    "axes.annotate('Outliers', xy=(2.93,0.015), xytext=(2.52,0.20), fontsize = 18,\n",
    "            arrowprops={'arrowstyle': '->', 'color': 'black', 'lw': 2},\n",
    "            va='center');\n",
    "\n",
    "axes.annotate('Outliers', xy=(-3.01,0.015), xytext=(-3.41,0.20), fontsize = 18,\n",
    "            arrowprops={'arrowstyle': '->', 'color': 'black', 'lw': 2},\n",
    "            va='center');"
   ]
  },
  {
   "cell_type": "markdown",
   "id": "d5ecd35a-dc18-4a6b-8057-0fe9fb090b6b",
   "metadata": {},
   "source": [
    "### plotly로 boxplot 그리기"
   ]
  },
  {
   "cell_type": "markdown",
   "id": "614a1b99-9b81-4e6a-a52c-70466c910668",
   "metadata": {},
   "source": [
    "`-` 로컬에서 하기 위해서는 아래를 설치 (코랩은 필요없음) \n",
    "\n",
    "```\n",
    "!pip install plotly \n",
    "!pip install ipywidgets\n",
    "!pip install jupyter-dash\n",
    "!pip install dash \n",
    "!pip install pandas \n",
    "```"
   ]
  },
  {
   "cell_type": "code",
   "execution_count": 48,
   "id": "09590b65-b5ef-4cf2-a7ab-6ee78121ef86",
   "metadata": {},
   "outputs": [],
   "source": [
    "import plotly.express as px \n",
    "import pandas as pd\n",
    "from IPython.display import HTML "
   ]
  },
  {
   "cell_type": "code",
   "execution_count": 63,
   "id": "50f85556-466c-448b-b2ab-10fda0e159cc",
   "metadata": {},
   "outputs": [
    {
     "data": {
      "text/html": [
       "<div>\n",
       "<style scoped>\n",
       "    .dataframe tbody tr th:only-of-type {\n",
       "        vertical-align: middle;\n",
       "    }\n",
       "\n",
       "    .dataframe tbody tr th {\n",
       "        vertical-align: top;\n",
       "    }\n",
       "\n",
       "    .dataframe thead th {\n",
       "        text-align: right;\n",
       "    }\n",
       "</style>\n",
       "<table border=\"1\" class=\"dataframe\">\n",
       "  <thead>\n",
       "    <tr style=\"text-align: right;\">\n",
       "      <th></th>\n",
       "      <th>score</th>\n",
       "      <th>class</th>\n",
       "    </tr>\n",
       "  </thead>\n",
       "  <tbody>\n",
       "    <tr>\n",
       "      <th>0</th>\n",
       "      <td>75</td>\n",
       "      <td>A</td>\n",
       "    </tr>\n",
       "    <tr>\n",
       "      <th>1</th>\n",
       "      <td>75</td>\n",
       "      <td>A</td>\n",
       "    </tr>\n",
       "    <tr>\n",
       "      <th>2</th>\n",
       "      <td>76</td>\n",
       "      <td>A</td>\n",
       "    </tr>\n",
       "    <tr>\n",
       "      <th>3</th>\n",
       "      <td>76</td>\n",
       "      <td>A</td>\n",
       "    </tr>\n",
       "    <tr>\n",
       "      <th>4</th>\n",
       "      <td>77</td>\n",
       "      <td>A</td>\n",
       "    </tr>\n",
       "    <tr>\n",
       "      <th>5</th>\n",
       "      <td>77</td>\n",
       "      <td>A</td>\n",
       "    </tr>\n",
       "    <tr>\n",
       "      <th>6</th>\n",
       "      <td>79</td>\n",
       "      <td>A</td>\n",
       "    </tr>\n",
       "    <tr>\n",
       "      <th>7</th>\n",
       "      <td>79</td>\n",
       "      <td>A</td>\n",
       "    </tr>\n",
       "    <tr>\n",
       "      <th>8</th>\n",
       "      <td>79</td>\n",
       "      <td>A</td>\n",
       "    </tr>\n",
       "    <tr>\n",
       "      <th>9</th>\n",
       "      <td>98</td>\n",
       "      <td>A</td>\n",
       "    </tr>\n",
       "    <tr>\n",
       "      <th>10</th>\n",
       "      <td>76</td>\n",
       "      <td>B</td>\n",
       "    </tr>\n",
       "    <tr>\n",
       "      <th>11</th>\n",
       "      <td>76</td>\n",
       "      <td>B</td>\n",
       "    </tr>\n",
       "    <tr>\n",
       "      <th>12</th>\n",
       "      <td>77</td>\n",
       "      <td>B</td>\n",
       "    </tr>\n",
       "    <tr>\n",
       "      <th>13</th>\n",
       "      <td>77</td>\n",
       "      <td>B</td>\n",
       "    </tr>\n",
       "    <tr>\n",
       "      <th>14</th>\n",
       "      <td>78</td>\n",
       "      <td>B</td>\n",
       "    </tr>\n",
       "    <tr>\n",
       "      <th>15</th>\n",
       "      <td>78</td>\n",
       "      <td>B</td>\n",
       "    </tr>\n",
       "    <tr>\n",
       "      <th>16</th>\n",
       "      <td>80</td>\n",
       "      <td>B</td>\n",
       "    </tr>\n",
       "    <tr>\n",
       "      <th>17</th>\n",
       "      <td>80</td>\n",
       "      <td>B</td>\n",
       "    </tr>\n",
       "    <tr>\n",
       "      <th>18</th>\n",
       "      <td>80</td>\n",
       "      <td>B</td>\n",
       "    </tr>\n",
       "    <tr>\n",
       "      <th>19</th>\n",
       "      <td>81</td>\n",
       "      <td>B</td>\n",
       "    </tr>\n",
       "  </tbody>\n",
       "</table>\n",
       "</div>"
      ],
      "text/plain": [
       "    score class\n",
       "0      75     A\n",
       "1      75     A\n",
       "2      76     A\n",
       "3      76     A\n",
       "4      77     A\n",
       "5      77     A\n",
       "6      79     A\n",
       "7      79     A\n",
       "8      79     A\n",
       "9      98     A\n",
       "10     76     B\n",
       "11     76     B\n",
       "12     77     B\n",
       "13     77     B\n",
       "14     78     B\n",
       "15     78     B\n",
       "16     80     B\n",
       "17     80     B\n",
       "18     80     B\n",
       "19     81     B"
      ]
     },
     "execution_count": 63,
     "metadata": {},
     "output_type": "execute_result"
    }
   ],
   "source": [
    "df= pd.DataFrame({'score':y1+y2,'class':['A']*len(y1) + ['B']*len(y2)})\n",
    "df"
   ]
  },
  {
   "cell_type": "code",
   "execution_count": 73,
   "id": "23a099c8-d6be-4626-affd-817c9a69bdd2",
   "metadata": {},
   "outputs": [
    {
     "data": {
      "text/html": [
       "<html>\n",
       "<head><meta charset=\"utf-8\" /></head>\n",
       "<body>\n",
       "    <div>                        <script type=\"text/javascript\">window.PlotlyConfig = {MathJaxConfig: 'local'};</script>\n",
       "        <script src=\"https://cdn.plot.ly/plotly-2.14.0.min.js\"></script>                <div id=\"77dc7c98-9f6f-45ef-b533-5e11484b9f29\" class=\"plotly-graph-div\" style=\"height:100%; width:100%;\"></div>            <script type=\"text/javascript\">                                    window.PLOTLYENV=window.PLOTLYENV || {};                                    if (document.getElementById(\"77dc7c98-9f6f-45ef-b533-5e11484b9f29\")) {                    Plotly.newPlot(                        \"77dc7c98-9f6f-45ef-b533-5e11484b9f29\",                        [{\"alignmentgroup\":\"True\",\"hovertemplate\":\"class=%{x}<br>score=%{y}<extra></extra>\",\"legendgroup\":\"\",\"marker\":{\"color\":\"#636efa\"},\"name\":\"\",\"notched\":false,\"offsetgroup\":\"\",\"orientation\":\"v\",\"showlegend\":false,\"x\":[\"A\",\"A\",\"A\",\"A\",\"A\",\"A\",\"A\",\"A\",\"A\",\"A\",\"B\",\"B\",\"B\",\"B\",\"B\",\"B\",\"B\",\"B\",\"B\",\"B\"],\"x0\":\" \",\"xaxis\":\"x\",\"y\":[75,75,76,76,77,77,79,79,79,98,76,76,77,77,78,78,80,80,80,81],\"y0\":\" \",\"yaxis\":\"y\",\"type\":\"box\"}],                        {\"template\":{\"data\":{\"histogram2dcontour\":[{\"type\":\"histogram2dcontour\",\"colorbar\":{\"outlinewidth\":0,\"ticks\":\"\"},\"colorscale\":[[0.0,\"#0d0887\"],[0.1111111111111111,\"#46039f\"],[0.2222222222222222,\"#7201a8\"],[0.3333333333333333,\"#9c179e\"],[0.4444444444444444,\"#bd3786\"],[0.5555555555555556,\"#d8576b\"],[0.6666666666666666,\"#ed7953\"],[0.7777777777777778,\"#fb9f3a\"],[0.8888888888888888,\"#fdca26\"],[1.0,\"#f0f921\"]]}],\"choropleth\":[{\"type\":\"choropleth\",\"colorbar\":{\"outlinewidth\":0,\"ticks\":\"\"}}],\"histogram2d\":[{\"type\":\"histogram2d\",\"colorbar\":{\"outlinewidth\":0,\"ticks\":\"\"},\"colorscale\":[[0.0,\"#0d0887\"],[0.1111111111111111,\"#46039f\"],[0.2222222222222222,\"#7201a8\"],[0.3333333333333333,\"#9c179e\"],[0.4444444444444444,\"#bd3786\"],[0.5555555555555556,\"#d8576b\"],[0.6666666666666666,\"#ed7953\"],[0.7777777777777778,\"#fb9f3a\"],[0.8888888888888888,\"#fdca26\"],[1.0,\"#f0f921\"]]}],\"heatmap\":[{\"type\":\"heatmap\",\"colorbar\":{\"outlinewidth\":0,\"ticks\":\"\"},\"colorscale\":[[0.0,\"#0d0887\"],[0.1111111111111111,\"#46039f\"],[0.2222222222222222,\"#7201a8\"],[0.3333333333333333,\"#9c179e\"],[0.4444444444444444,\"#bd3786\"],[0.5555555555555556,\"#d8576b\"],[0.6666666666666666,\"#ed7953\"],[0.7777777777777778,\"#fb9f3a\"],[0.8888888888888888,\"#fdca26\"],[1.0,\"#f0f921\"]]}],\"heatmapgl\":[{\"type\":\"heatmapgl\",\"colorbar\":{\"outlinewidth\":0,\"ticks\":\"\"},\"colorscale\":[[0.0,\"#0d0887\"],[0.1111111111111111,\"#46039f\"],[0.2222222222222222,\"#7201a8\"],[0.3333333333333333,\"#9c179e\"],[0.4444444444444444,\"#bd3786\"],[0.5555555555555556,\"#d8576b\"],[0.6666666666666666,\"#ed7953\"],[0.7777777777777778,\"#fb9f3a\"],[0.8888888888888888,\"#fdca26\"],[1.0,\"#f0f921\"]]}],\"contourcarpet\":[{\"type\":\"contourcarpet\",\"colorbar\":{\"outlinewidth\":0,\"ticks\":\"\"}}],\"contour\":[{\"type\":\"contour\",\"colorbar\":{\"outlinewidth\":0,\"ticks\":\"\"},\"colorscale\":[[0.0,\"#0d0887\"],[0.1111111111111111,\"#46039f\"],[0.2222222222222222,\"#7201a8\"],[0.3333333333333333,\"#9c179e\"],[0.4444444444444444,\"#bd3786\"],[0.5555555555555556,\"#d8576b\"],[0.6666666666666666,\"#ed7953\"],[0.7777777777777778,\"#fb9f3a\"],[0.8888888888888888,\"#fdca26\"],[1.0,\"#f0f921\"]]}],\"surface\":[{\"type\":\"surface\",\"colorbar\":{\"outlinewidth\":0,\"ticks\":\"\"},\"colorscale\":[[0.0,\"#0d0887\"],[0.1111111111111111,\"#46039f\"],[0.2222222222222222,\"#7201a8\"],[0.3333333333333333,\"#9c179e\"],[0.4444444444444444,\"#bd3786\"],[0.5555555555555556,\"#d8576b\"],[0.6666666666666666,\"#ed7953\"],[0.7777777777777778,\"#fb9f3a\"],[0.8888888888888888,\"#fdca26\"],[1.0,\"#f0f921\"]]}],\"mesh3d\":[{\"type\":\"mesh3d\",\"colorbar\":{\"outlinewidth\":0,\"ticks\":\"\"}}],\"scatter\":[{\"fillpattern\":{\"fillmode\":\"overlay\",\"size\":10,\"solidity\":0.2},\"type\":\"scatter\"}],\"parcoords\":[{\"type\":\"parcoords\",\"line\":{\"colorbar\":{\"outlinewidth\":0,\"ticks\":\"\"}}}],\"scatterpolargl\":[{\"type\":\"scatterpolargl\",\"marker\":{\"colorbar\":{\"outlinewidth\":0,\"ticks\":\"\"}}}],\"bar\":[{\"error_x\":{\"color\":\"#2a3f5f\"},\"error_y\":{\"color\":\"#2a3f5f\"},\"marker\":{\"line\":{\"color\":\"#E5ECF6\",\"width\":0.5},\"pattern\":{\"fillmode\":\"overlay\",\"size\":10,\"solidity\":0.2}},\"type\":\"bar\"}],\"scattergeo\":[{\"type\":\"scattergeo\",\"marker\":{\"colorbar\":{\"outlinewidth\":0,\"ticks\":\"\"}}}],\"scatterpolar\":[{\"type\":\"scatterpolar\",\"marker\":{\"colorbar\":{\"outlinewidth\":0,\"ticks\":\"\"}}}],\"histogram\":[{\"marker\":{\"pattern\":{\"fillmode\":\"overlay\",\"size\":10,\"solidity\":0.2}},\"type\":\"histogram\"}],\"scattergl\":[{\"type\":\"scattergl\",\"marker\":{\"colorbar\":{\"outlinewidth\":0,\"ticks\":\"\"}}}],\"scatter3d\":[{\"type\":\"scatter3d\",\"line\":{\"colorbar\":{\"outlinewidth\":0,\"ticks\":\"\"}},\"marker\":{\"colorbar\":{\"outlinewidth\":0,\"ticks\":\"\"}}}],\"scattermapbox\":[{\"type\":\"scattermapbox\",\"marker\":{\"colorbar\":{\"outlinewidth\":0,\"ticks\":\"\"}}}],\"scatterternary\":[{\"type\":\"scatterternary\",\"marker\":{\"colorbar\":{\"outlinewidth\":0,\"ticks\":\"\"}}}],\"scattercarpet\":[{\"type\":\"scattercarpet\",\"marker\":{\"colorbar\":{\"outlinewidth\":0,\"ticks\":\"\"}}}],\"carpet\":[{\"aaxis\":{\"endlinecolor\":\"#2a3f5f\",\"gridcolor\":\"white\",\"linecolor\":\"white\",\"minorgridcolor\":\"white\",\"startlinecolor\":\"#2a3f5f\"},\"baxis\":{\"endlinecolor\":\"#2a3f5f\",\"gridcolor\":\"white\",\"linecolor\":\"white\",\"minorgridcolor\":\"white\",\"startlinecolor\":\"#2a3f5f\"},\"type\":\"carpet\"}],\"table\":[{\"cells\":{\"fill\":{\"color\":\"#EBF0F8\"},\"line\":{\"color\":\"white\"}},\"header\":{\"fill\":{\"color\":\"#C8D4E3\"},\"line\":{\"color\":\"white\"}},\"type\":\"table\"}],\"barpolar\":[{\"marker\":{\"line\":{\"color\":\"#E5ECF6\",\"width\":0.5},\"pattern\":{\"fillmode\":\"overlay\",\"size\":10,\"solidity\":0.2}},\"type\":\"barpolar\"}],\"pie\":[{\"automargin\":true,\"type\":\"pie\"}]},\"layout\":{\"autotypenumbers\":\"strict\",\"colorway\":[\"#636efa\",\"#EF553B\",\"#00cc96\",\"#ab63fa\",\"#FFA15A\",\"#19d3f3\",\"#FF6692\",\"#B6E880\",\"#FF97FF\",\"#FECB52\"],\"font\":{\"color\":\"#2a3f5f\"},\"hovermode\":\"closest\",\"hoverlabel\":{\"align\":\"left\"},\"paper_bgcolor\":\"white\",\"plot_bgcolor\":\"#E5ECF6\",\"polar\":{\"bgcolor\":\"#E5ECF6\",\"angularaxis\":{\"gridcolor\":\"white\",\"linecolor\":\"white\",\"ticks\":\"\"},\"radialaxis\":{\"gridcolor\":\"white\",\"linecolor\":\"white\",\"ticks\":\"\"}},\"ternary\":{\"bgcolor\":\"#E5ECF6\",\"aaxis\":{\"gridcolor\":\"white\",\"linecolor\":\"white\",\"ticks\":\"\"},\"baxis\":{\"gridcolor\":\"white\",\"linecolor\":\"white\",\"ticks\":\"\"},\"caxis\":{\"gridcolor\":\"white\",\"linecolor\":\"white\",\"ticks\":\"\"}},\"coloraxis\":{\"colorbar\":{\"outlinewidth\":0,\"ticks\":\"\"}},\"colorscale\":{\"sequential\":[[0.0,\"#0d0887\"],[0.1111111111111111,\"#46039f\"],[0.2222222222222222,\"#7201a8\"],[0.3333333333333333,\"#9c179e\"],[0.4444444444444444,\"#bd3786\"],[0.5555555555555556,\"#d8576b\"],[0.6666666666666666,\"#ed7953\"],[0.7777777777777778,\"#fb9f3a\"],[0.8888888888888888,\"#fdca26\"],[1.0,\"#f0f921\"]],\"sequentialminus\":[[0.0,\"#0d0887\"],[0.1111111111111111,\"#46039f\"],[0.2222222222222222,\"#7201a8\"],[0.3333333333333333,\"#9c179e\"],[0.4444444444444444,\"#bd3786\"],[0.5555555555555556,\"#d8576b\"],[0.6666666666666666,\"#ed7953\"],[0.7777777777777778,\"#fb9f3a\"],[0.8888888888888888,\"#fdca26\"],[1.0,\"#f0f921\"]],\"diverging\":[[0,\"#8e0152\"],[0.1,\"#c51b7d\"],[0.2,\"#de77ae\"],[0.3,\"#f1b6da\"],[0.4,\"#fde0ef\"],[0.5,\"#f7f7f7\"],[0.6,\"#e6f5d0\"],[0.7,\"#b8e186\"],[0.8,\"#7fbc41\"],[0.9,\"#4d9221\"],[1,\"#276419\"]]},\"xaxis\":{\"gridcolor\":\"white\",\"linecolor\":\"white\",\"ticks\":\"\",\"title\":{\"standoff\":15},\"zerolinecolor\":\"white\",\"automargin\":true,\"zerolinewidth\":2},\"yaxis\":{\"gridcolor\":\"white\",\"linecolor\":\"white\",\"ticks\":\"\",\"title\":{\"standoff\":15},\"zerolinecolor\":\"white\",\"automargin\":true,\"zerolinewidth\":2},\"scene\":{\"xaxis\":{\"backgroundcolor\":\"#E5ECF6\",\"gridcolor\":\"white\",\"linecolor\":\"white\",\"showbackground\":true,\"ticks\":\"\",\"zerolinecolor\":\"white\",\"gridwidth\":2},\"yaxis\":{\"backgroundcolor\":\"#E5ECF6\",\"gridcolor\":\"white\",\"linecolor\":\"white\",\"showbackground\":true,\"ticks\":\"\",\"zerolinecolor\":\"white\",\"gridwidth\":2},\"zaxis\":{\"backgroundcolor\":\"#E5ECF6\",\"gridcolor\":\"white\",\"linecolor\":\"white\",\"showbackground\":true,\"ticks\":\"\",\"zerolinecolor\":\"white\",\"gridwidth\":2}},\"shapedefaults\":{\"line\":{\"color\":\"#2a3f5f\"}},\"annotationdefaults\":{\"arrowcolor\":\"#2a3f5f\",\"arrowhead\":0,\"arrowwidth\":1},\"geo\":{\"bgcolor\":\"white\",\"landcolor\":\"#E5ECF6\",\"subunitcolor\":\"white\",\"showland\":true,\"showlakes\":true,\"lakecolor\":\"white\"},\"title\":{\"x\":0.05},\"mapbox\":{\"style\":\"light\"}}},\"xaxis\":{\"anchor\":\"y\",\"domain\":[0.0,1.0],\"title\":{\"text\":\"class\"}},\"yaxis\":{\"anchor\":\"x\",\"domain\":[0.0,1.0],\"title\":{\"text\":\"score\"}},\"legend\":{\"tracegroupgap\":0},\"margin\":{\"t\":60},\"boxmode\":\"group\"},                        {\"responsive\": true}                    )                };                            </script>        </div>\n",
       "</body>\n",
       "</html>"
      ],
      "text/plain": [
       "<IPython.core.display.HTML object>"
      ]
     },
     "execution_count": 73,
     "metadata": {},
     "output_type": "execute_result"
    }
   ],
   "source": [
    "fig = px.box(df,x='class',y='score')\n",
    "HTML(fig.to_html(include_plotlyjs='cdn',include_mathjax=False))"
   ]
  },
  {
   "cell_type": "markdown",
   "id": "b9eb43ed-2e11-4340-be39-fba26646f7ba",
   "metadata": {},
   "source": [
    "## histogram"
   ]
  },
  {
   "cell_type": "markdown",
   "id": "1bc12788-b64f-4e32-8a31-fe2120363334",
   "metadata": {},
   "source": [
    "### motivating example"
   ]
  },
  {
   "cell_type": "markdown",
   "id": "3f027686-6c2a-4f43-87a3-8b373f6b35ac",
   "metadata": {
    "tags": []
   },
   "source": [
    "### histogram 이란? "
   ]
  },
  {
   "cell_type": "markdown",
   "id": "5c65d491-1d58-42f8-94bc-5e9c401333cd",
   "metadata": {
    "tags": []
   },
   "source": [
    "### matplotlib으로 histogram 그리기"
   ]
  },
  {
   "cell_type": "markdown",
   "id": "a444e3c5-edd4-48b9-a4e0-e0f1d105dc30",
   "metadata": {},
   "source": [
    "### seaborn으로 histogram 그리기"
   ]
  },
  {
   "cell_type": "markdown",
   "id": "2ee20f61-31ae-4560-af68-d2825d3e71e4",
   "metadata": {},
   "source": [
    "### plotnine으로 histogram 그리기"
   ]
  },
  {
   "cell_type": "markdown",
   "id": "1f64f15b-ec07-4e9f-b84b-1b3de14b9667",
   "metadata": {},
   "source": [
    "### plotly로 histogram 그리기"
   ]
  },
  {
   "cell_type": "markdown",
   "id": "67895c89-0324-45c3-8a8b-1b01b9b7105a",
   "metadata": {},
   "source": [
    "## [숙제](https://ieilms.jbnu.ac.kr/)\n",
    "\n",
    "(1) 자기학번으로 np.random.seed(202043052)를 만들고 \n",
    "\n",
    "(2) y1, y2 // 10만개의 정규분포를 생성해서 저장 \n",
    "- y1: 평균 0, 표준편차=1 \n",
    "- y2: 평균 1, 표준편차=1\n",
    "\n",
    "(3) plotly 를 활용하여 히스토그램을 겹쳐서 그려보는것. "
   ]
  }
 ],
 "metadata": {
  "kernelspec": {
   "display_name": "Python 3 (ipykernel)",
   "language": "python",
   "name": "python3"
  },
  "language_info": {
   "codemirror_mode": {
    "name": "ipython",
    "version": 3
   },
   "file_extension": ".py",
   "mimetype": "text/x-python",
   "name": "python",
   "nbconvert_exporter": "python",
   "pygments_lexer": "ipython3",
   "version": "3.7.13"
  }
 },
 "nbformat": 4,
 "nbformat_minor": 5
}
