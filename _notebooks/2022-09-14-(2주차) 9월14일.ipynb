{
 "cells": [
  {
   "cell_type": "markdown",
   "id": "4b3d4872-c3c2-42ef-b4fc-5a50cfac5674",
   "metadata": {
    "tags": []
   },
   "source": [
    "# (2주차) 9월14일\n",
    "> 히스토그램 응용 - 히스토그램 이퀄라이제이션\n",
    "\n",
    "- toc:true\n",
    "- branch: master\n",
    "- badges: true\n",
    "- comments: true\n",
    "- author: 최규빈"
   ]
  },
  {
   "cell_type": "markdown",
   "id": "25bfef0b-18f3-4ce4-b9fa-29f656c62e5f",
   "metadata": {},
   "source": [
    "## 강의영상 "
   ]
  },
  {
   "cell_type": "markdown",
   "id": "97cee94d-d200-49cf-ba79-4a5dcf0898b8",
   "metadata": {},
   "source": [
    "## 참고자료 "
   ]
  },
  {
   "cell_type": "markdown",
   "id": "43d86612-e8dd-44ad-8c2e-7d5640fac4c4",
   "metadata": {},
   "source": [
    "`-` 넘파이 문법이 약하다면? (reshape, concatenate, stack) \n",
    "- [reshape](https://guebin.github.io/IP2022/2022/04/06/(6%EC%A3%BC%EC%B0%A8)-4%EC%9B%946%EC%9D%BC.html), 링크의 넘파이공부 2단계 reshape 참고 \n",
    "- [concatenate, stack](https://guebin.github.io/IP2022/2022/04/11/(6%EC%A3%BC%EC%B0%A8)-4%EC%9B%9411%EC%9D%BC.html), 링크의 넘파이공부 4단계 참고 "
   ]
  },
  {
   "cell_type": "markdown",
   "id": "6744c93b-4a9a-4cd3-984d-a0eaed773191",
   "metadata": {},
   "source": [
    "`-` 주피터에서 `!`로 시작하는 명령의 기원, 혹은 원리를 알고싶다면? -> [여기로](https://guebin.github.io/IP2022/2022/03/28/(4%EC%A3%BC%EC%B0%A8)-3%EC%9B%9428%EC%9D%BC.html) 가서 3세대프로그래머의 삶까지 살펴볼 것 "
   ]
  },
  {
   "cell_type": "markdown",
   "id": "cbc4c3ae-ecfe-4881-8f11-3c8d9125a5db",
   "metadata": {},
   "source": [
    "`-` import, from ... import ... 등 모듈을 임포트하는 방식이 낯설다면? -> [여기로](https://guebin.github.io/IP2022/2022/04/03/(5%EC%A3%BC%EC%B0%A8)-4%EC%9B%942%EC%9D%BC.html) 가서 복습하세요"
   ]
  },
  {
   "cell_type": "markdown",
   "id": "33028ad7-b2b7-4ee1-a32c-350f6fb6fea9",
   "metadata": {},
   "source": [
    "## 오늘 배울 내용? "
   ]
  },
  {
   "cell_type": "markdown",
   "id": "8b10f3bc-9567-4d22-bf9c-8978ac757897",
   "metadata": {},
   "source": [
    "`-` 히스토그램의 활용: 정규분포인지 판단 "
   ]
  },
  {
   "cell_type": "markdown",
   "id": "2128523d-279d-486b-9692-204f626cbe16",
   "metadata": {},
   "source": [
    "`-` 히스토그램의 활용2: 이미지 보정! [히스토그램 이퀄라이제이션](https://en.wikipedia.org/wiki/Histogram_equalization) "
   ]
  },
  {
   "cell_type": "markdown",
   "id": "559b628d-af7e-4082-b97f-3688a62c1df3",
   "metadata": {},
   "source": [
    "## 이미지자료 다운로드"
   ]
  },
  {
   "cell_type": "code",
   "execution_count": null,
   "id": "4cb762dc-dabf-4564-83c5-e327af88d1e5",
   "metadata": {},
   "outputs": [],
   "source": []
  },
  {
   "cell_type": "code",
   "execution_count": null,
   "id": "2fd30b71-5723-4303-a8b9-2d1dd98b91d4",
   "metadata": {},
   "outputs": [],
   "source": []
  },
  {
   "cell_type": "markdown",
   "id": "46135b24-2eb4-4b29-a019-890d6001867c",
   "metadata": {},
   "source": [
    "## 이미지자료의 이해 "
   ]
  },
  {
   "cell_type": "code",
   "execution_count": null,
   "id": "36eb2ba8-3b4d-4cb3-aeee-24146ea1f75f",
   "metadata": {},
   "outputs": [],
   "source": []
  },
  {
   "cell_type": "code",
   "execution_count": null,
   "id": "59081f7d-d052-4b57-ab52-6f6d4cd57a91",
   "metadata": {},
   "outputs": [],
   "source": []
  },
  {
   "cell_type": "markdown",
   "id": "4c7c0c6a-3929-4cbe-9242-d41148f233fd",
   "metadata": {},
   "source": [
    "### 비밀1: 이미지는 사실 숫자들의 집합이었음. "
   ]
  },
  {
   "cell_type": "code",
   "execution_count": null,
   "id": "f458e8e2-a2ff-439e-97a0-761f3a293890",
   "metadata": {},
   "outputs": [],
   "source": []
  },
  {
   "cell_type": "code",
   "execution_count": null,
   "id": "83b0de4d-a359-4d11-bf97-b12f3379e4f7",
   "metadata": {},
   "outputs": [],
   "source": []
  },
  {
   "cell_type": "markdown",
   "id": "8ef1d519-f31f-4d3f-8707-46e375fdffc3",
   "metadata": {},
   "source": [
    "### 비밀2: 칼라이미지는 red + green + blue 의 조합으로 표현가능 (다른방식도 가능)"
   ]
  },
  {
   "cell_type": "code",
   "execution_count": null,
   "id": "1d8efe15-b9fe-492b-8c0e-4a9887fbae66",
   "metadata": {},
   "outputs": [],
   "source": []
  },
  {
   "cell_type": "code",
   "execution_count": null,
   "id": "0f26dc27-859d-4137-8e82-0d34d6e56b9a",
   "metadata": {},
   "outputs": [],
   "source": []
  },
  {
   "cell_type": "markdown",
   "id": "9bb1219a-a1e8-4719-8720-93ca9fda2567",
   "metadata": {},
   "source": [
    "## 히스토그램 이퀄라이제이션"
   ]
  },
  {
   "cell_type": "code",
   "execution_count": null,
   "id": "0f3be951-7e77-4f15-b378-34646bab60e4",
   "metadata": {},
   "outputs": [],
   "source": []
  },
  {
   "cell_type": "code",
   "execution_count": null,
   "id": "4460958d-a8e9-4ee0-a15b-3a55eaf87729",
   "metadata": {},
   "outputs": [],
   "source": []
  },
  {
   "cell_type": "markdown",
   "id": "71d3bcdb-5bd3-404f-923a-d1b4a6f84006",
   "metadata": {},
   "source": [
    "## 히스토그램 이퀄라이제이션 (흑백버전) "
   ]
  },
  {
   "cell_type": "code",
   "execution_count": null,
   "id": "2408ca3b-b701-4054-b3fe-37e1cd2989db",
   "metadata": {},
   "outputs": [],
   "source": []
  },
  {
   "cell_type": "code",
   "execution_count": null,
   "id": "b574f5fd-27ac-4ece-9272-321813c52859",
   "metadata": {},
   "outputs": [],
   "source": []
  },
  {
   "cell_type": "code",
   "execution_count": null,
   "id": "f4a7f03d-71a6-4d06-be31-9847d8736c35",
   "metadata": {},
   "outputs": [],
   "source": []
  }
 ],
 "metadata": {
  "kernelspec": {
   "display_name": "Python 3 (ipykernel)",
   "language": "python",
   "name": "python3"
  },
  "language_info": {
   "codemirror_mode": {
    "name": "ipython",
    "version": 3
   },
   "file_extension": ".py",
   "mimetype": "text/x-python",
   "name": "python",
   "nbconvert_exporter": "python",
   "pygments_lexer": "ipython3",
   "version": "3.7.13"
  }
 },
 "nbformat": 4,
 "nbformat_minor": 5
}
