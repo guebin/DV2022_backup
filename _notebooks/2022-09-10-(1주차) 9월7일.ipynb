{
 "cells": [
  {
   "cell_type": "markdown",
   "id": "d6c8f60b-757c-4bd2-a15e-caa130bc9828",
   "metadata": {
    "tags": []
   },
   "source": [
    "# ~(1주차) 9월7일에 대한 보강~\n",
    "> 9월14일 이후에 업로드 예정\n",
    "\n",
    "- toc:true\n",
    "- branch: master\n",
    "- badges: true\n",
    "- comments: true\n",
    "- author: 최규빈"
   ]
  },
  {
   "cell_type": "markdown",
   "id": "8005a246-0f6c-417b-ad89-143de4fb4206",
   "metadata": {},
   "source": [
    "`-` 추후 업로드 예정"
   ]
  }
 ],
 "metadata": {
  "kernelspec": {
   "display_name": "Python 3 (ipykernel)",
   "language": "python",
   "name": "python3"
  },
  "language_info": {
   "codemirror_mode": {
    "name": "ipython",
    "version": 3
   },
   "file_extension": ".py",
   "mimetype": "text/x-python",
   "name": "python",
   "nbconvert_exporter": "python",
   "pygments_lexer": "ipython3",
   "version": "3.7.13"
  }
 },
 "nbformat": 4,
 "nbformat_minor": 5
}
