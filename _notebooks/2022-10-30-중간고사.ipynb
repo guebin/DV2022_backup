{
 "cells": [
  {
   "cell_type": "markdown",
   "id": "c90c7410-0459-45a7-9cf9-11da451ab699",
   "metadata": {},
   "source": [
    "# 데이터시각화 중간고사 예상문제 (ver 0.1)"
   ]
  },
  {
   "cell_type": "markdown",
   "id": "1432c5d6-e226-489a-ad6b-9698fa7384d8",
   "metadata": {},
   "source": [
    "## 주의사항 "
   ]
  },
  {
   "cell_type": "markdown",
   "id": "6b9f8273-a040-4b17-b8f2-ca798f86996f",
   "metadata": {},
   "source": [
    "`-` 답안지는 ipynb or html 파일로 제출하고 파일이름은 본인성명만 쓸 것\n",
    "\n",
    "`-` 채점기준: 모든 문항은 부분점수 없음. (즉 중간까지 작성된 코드나 결과가 올바르게 출력되지 않는 코드는 모두 0점처리함) "
   ]
  },
  {
   "cell_type": "markdown",
   "id": "d31fc38a-526e-474b-b9b0-2628532c5bf6",
   "metadata": {},
   "source": [
    "## `1`. 데이터 시각화와 통계적 해석 (10점)"
   ]
  },
  {
   "cell_type": "markdown",
   "id": "1e007de2-96f4-4530-aaed-488193489212",
   "metadata": {},
   "source": [
    "- 2021년 중간고사 1,3,4와 비슷한 유형 "
   ]
  },
  {
   "cell_type": "markdown",
   "id": "47c7227f-b9db-4bf2-8392-8edf9a3d60fe",
   "metadata": {},
   "source": [
    "## `2`. matplotlib, seaborn을 이용한 시각화 (20점)"
   ]
  },
  {
   "cell_type": "markdown",
   "id": "03dfc434-5931-4c05-9d5e-6f00c394b7af",
   "metadata": {},
   "source": [
    "- 2021년 중간고사 2번과 비슷한 유형"
   ]
  },
  {
   "cell_type": "markdown",
   "id": "6c25a125-f269-4382-8f98-256e995dddc2",
   "metadata": {},
   "source": [
    "## `3`. 자료분석 및 시각화 I (25점)"
   ]
  },
  {
   "cell_type": "markdown",
   "id": "fadaedd3-2f26-489f-a6ec-e799084037c2",
   "metadata": {},
   "source": [
    "- 2021년 중간고사 5번과 비슷한 유형 "
   ]
  },
  {
   "cell_type": "markdown",
   "id": "57bbbf6d-9fe6-4d06-bf4a-edf334b67d01",
   "metadata": {},
   "source": [
    "## `4`. 자료분석 및 시각화 II (25점)"
   ]
  },
  {
   "cell_type": "markdown",
   "id": "4877ca38-3c36-4bb7-8d2d-82f436bbf8e9",
   "metadata": {},
   "source": [
    "- 2021년 중간고사 5번과 비슷한 유형 "
   ]
  },
  {
   "cell_type": "markdown",
   "id": "ce0486ba-a742-4a51-b8ab-05b0df305812",
   "metadata": {},
   "source": [
    "## `5`. 자료분석 및 시각화 III (20점) "
   ]
  },
  {
   "cell_type": "markdown",
   "id": "37c0b1b9-5ebb-4684-af43-303ce54ce798",
   "metadata": {},
   "source": [
    "- 2021년 중간고사 6번과 비슷한 유형 "
   ]
  }
 ],
 "metadata": {
  "kernelspec": {
   "display_name": "Python 3 (ipykernel)",
   "language": "python",
   "name": "python3"
  },
  "language_info": {
   "codemirror_mode": {
    "name": "ipython",
    "version": 3
   },
   "file_extension": ".py",
   "mimetype": "text/x-python",
   "name": "python",
   "nbconvert_exporter": "python",
   "pygments_lexer": "ipython3",
   "version": "3.7.13"
  }
 },
 "nbformat": 4,
 "nbformat_minor": 5
}
