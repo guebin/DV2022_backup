{
 "cells": [
  {
   "cell_type": "markdown",
   "id": "a2d91d21-b483-4004-b9bc-db6fc1933de7",
   "metadata": {
    "tags": []
   },
   "source": [
    "# 중간고사-  COVID19 양성시 중간고사 응시방법\n",
    "\n",
    "- toc:true\n",
    "- branch: master\n",
    "- badges: true\n",
    "- comments: true\n",
    "- author: 최규빈"
   ]
  },
  {
   "cell_type": "markdown",
   "id": "8aaeba69-0419-4fa5-9be4-b7ed243abb5c",
   "metadata": {
    "tags": []
   },
   "source": [
    "### 시험방법\n"
   ]
  },
  {
   "cell_type": "markdown",
   "id": "8ed01b92-5776-48a8-8efa-9d28e4881632",
   "metadata": {},
   "source": [
    "`-` 비대면: Zoom을 활용하여 응시"
   ]
  },
  {
   "cell_type": "markdown",
   "id": "4627302f-ef12-47bc-bb77-a089731eb935",
   "metadata": {},
   "source": [
    "### 시험시간 \n"
   ]
  },
  {
   "cell_type": "markdown",
   "id": "7512779d-4620-4085-95f6-ea5475c04cd8",
   "metadata": {},
   "source": [
    "`-` 일시: LMS를 통해 공지한 날의 수업시간\n"
   ]
  },
  {
   "cell_type": "markdown",
   "id": "f0f083d6-0e70-4219-b9d2-98a5b86d20ea",
   "metadata": {},
   "source": [
    "### 시험실 입장 "
   ]
  },
  {
   "cell_type": "markdown",
   "id": "df57fc8f-300e-487a-b98f-7722e052083d",
   "metadata": {},
   "source": [
    "`-` LMS $\\to$ 강의대화 $\\to$ Zoom 화상강의 바로 가기로 입장"
   ]
  },
  {
   "cell_type": "markdown",
   "id": "8d122aa4-8794-4779-913d-1239b414422b",
   "metadata": {},
   "source": [
    "### 제출 "
   ]
  },
  {
   "cell_type": "markdown",
   "id": "a35f40be-85c0-40e2-b0b5-d4c86ec3641b",
   "metadata": {},
   "source": [
    "`-` 답안지: LMS의 레포트 메뉴를 활용하여 답안지를 제출 (종료시간 이전에 미리 제출가능) "
   ]
  },
  {
   "cell_type": "markdown",
   "id": "87df8c27-f7f2-480b-aea4-1d40e3237842",
   "metadata": {},
   "source": [
    "`-` 동영상: 시험시간동안 컴퓨터전체화면 녹화후 제출 \n",
    "- 듀얼모니터의 경우 작업표시줄이 나타나는 모니터를 녹화\n",
    "- 아이패드와 동시사용시에는 아이패드도 함께 녹화 "
   ]
  },
  {
   "cell_type": "markdown",
   "id": "839530ab-28bf-4758-baf9-75483879f7a1",
   "metadata": {},
   "source": [
    "### 준비물 "
   ]
  },
  {
   "cell_type": "markdown",
   "id": "28216737-36e7-424f-a121-47833f3dce4c",
   "metadata": {},
   "source": [
    "`-` 컴퓨터 및 노트북: 시험지 확인 및 문제풀이 용도 "
   ]
  },
  {
   "cell_type": "markdown",
   "id": "f61461e6-d4f1-4cd8-a084-4a917d194870",
   "metadata": {},
   "source": [
    "`-` 핸드폰: Zoom을 통하여 주변상황을 및 컴퓨터 화면을 촬영하는 용도 \n",
    "\n",
    "- 중간에 핸드폰 및 노트북이 꺼지지 않도록 충전기를 준비한다. "
   ]
  },
  {
   "cell_type": "markdown",
   "id": "6e1e021b-9294-4e99-b93b-d7ba416995cc",
   "metadata": {},
   "source": [
    "`-` 학생증 혹은 신분증 (본인확인용도)"
   ]
  },
  {
   "cell_type": "markdown",
   "id": "2a884184-cb2b-48eb-96a1-0d4e7129223a",
   "metadata": {},
   "source": [
    "### 시험전 준비사항"
   ]
  },
  {
   "cell_type": "markdown",
   "id": "0c3287c8-2590-4b6a-a71d-ef3f70ba872a",
   "metadata": {},
   "source": [
    "`-` 시험준비시간 동안 핸드폰을 아래와 같이 배치하여 학생의 컴퓨터 화면 및 주변상황이 보이도록 함\n",
    "\n",
    "![](https://github.com/guebin/2021IR/blob/master/_notebooks/img.png?raw=true)\n",
    "- 적절한 각도를 설정하기 어려운 경우 주변환경보다 컴퓨터의 화면이 잘 보이도록 설정할 것 "
   ]
  },
  {
   "cell_type": "markdown",
   "id": "41f7fc7a-867f-4d08-a271-6a045ed763a0",
   "metadata": {},
   "source": [
    "`-` 학생증을 준비하여 시험 시작 직전에 본인의 얼굴과 학생증을 함께 촬영한다. (5초간) "
   ]
  },
  {
   "cell_type": "markdown",
   "id": "f126c4f5-5a5c-49c8-bdbd-4f0fff960330",
   "metadata": {},
   "source": [
    "### 유의사항"
   ]
  },
  {
   "cell_type": "markdown",
   "id": "7d73fd9b-a0c0-416f-9c94-29d45931180d",
   "metadata": {},
   "source": [
    "`-` 줌의 대화명은 이름과 학번을 모두 적는다. (예시: 최규빈_202143052)\n",
    "\n",
    "- 동명이인이 있을 수 있으므로 학번을 같이 적으세요"
   ]
  },
  {
   "cell_type": "markdown",
   "id": "dc08d455-3972-43a3-9440-9c0ae66c30f2",
   "metadata": {},
   "source": [
    "`-` 질문은 카카오톡 채널 혹은 줌의 채팅기능을 이용"
   ]
  },
  {
   "cell_type": "markdown",
   "id": "008c9dc3-b31c-42ab-96a1-01ad53ba62b2",
   "metadata": {},
   "source": [
    "`-` Zoom에서 스피커 음소거를 하지 않는다. (전체 공지사항등이 있을때 음성으로 공지함) "
   ]
  },
  {
   "cell_type": "markdown",
   "id": "8eec3471-5a7d-4746-ab93-0ca98a18eb2b",
   "metadata": {},
   "source": [
    "`-` 핸드폰으로 Zoom참가 중 전화가 오면 거절하고 받지 않는다. (전화통화시 Zoom연결이 종료되므로 부정행위로 의심할 수 있음) "
   ]
  },
  {
   "cell_type": "markdown",
   "id": "e6092187-6edc-4ad1-a3a5-7884d264e312",
   "metadata": {},
   "source": [
    "### 기타 참고사항"
   ]
  },
  {
   "cell_type": "markdown",
   "id": "dbd0b4dc-c32a-4dd6-9d5b-c04d001e73c3",
   "metadata": {},
   "source": [
    "`-` 핸드폰과 피씨를 이용하여 줌에 동시접속할 경우 \n",
    "- 최규빈_202143052_핸드폰\n",
    "- 최규빈_202143052_컴퓨터 \n",
    "\n",
    "와 같이 기기를 분리하여 적는다. "
   ]
  }
 ],
 "metadata": {
  "kernelspec": {
   "display_name": "Python 3 (ipykernel)",
   "language": "python",
   "name": "python3"
  },
  "language_info": {
   "codemirror_mode": {
    "name": "ipython",
    "version": 3
   },
   "file_extension": ".py",
   "mimetype": "text/x-python",
   "name": "python",
   "nbconvert_exporter": "python",
   "pygments_lexer": "ipython3",
   "version": "3.7.13"
  }
 },
 "nbformat": 4,
 "nbformat_minor": 5
}
