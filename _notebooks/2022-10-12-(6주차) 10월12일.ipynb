{
 "cells": [
  {
   "cell_type": "markdown",
   "id": "648fd571-2972-4b70-bac1-85839060a476",
   "metadata": {
    "tags": []
   },
   "source": [
    "# (6주차) 10월12일 -- draft\n",
    "> 판다스-- lambda, map\n",
    "\n",
    "- toc:true\n",
    "- branch: master\n",
    "- badges: true\n",
    "- comments: true\n",
    "- author: 최규빈"
   ]
  },
  {
   "cell_type": "markdown",
   "id": "be683c2d-2b5d-4d43-834b-a97e184b2f5a",
   "metadata": {
    "tags": []
   },
   "source": [
    "## lambda, map ($\\star$)"
   ]
  },
  {
   "cell_type": "markdown",
   "id": "8bb1c1f8-efa2-4d73-85d4-e04f06462a60",
   "metadata": {},
   "source": [
    "### lambda "
   ]
  },
  {
   "cell_type": "markdown",
   "id": "a77ebc1c-88e0-4047-acf5-cbda67fa14eb",
   "metadata": {},
   "source": [
    "`-` 예제1: 람다표현식(lambda expression)자체가 하나의 오브젝트임 "
   ]
  },
  {
   "cell_type": "markdown",
   "id": "8adb3325-35a2-4a78-8c15-746d115509fa",
   "metadata": {},
   "source": [
    "`-` 예제2: 람다표현식에 이름을 줄 수 있음. "
   ]
  },
  {
   "cell_type": "markdown",
   "id": "6ee30c55-865c-4ee9-bc2f-b10f5c707653",
   "metadata": {},
   "source": [
    "`-` 예제3: 조건부 출력"
   ]
  },
  {
   "cell_type": "markdown",
   "id": "6801b47a-4c10-4494-b5d0-cacb844236a8",
   "metadata": {},
   "source": [
    "`-` 예제4: 람다표현식들의 리스트 "
   ]
  },
  {
   "cell_type": "markdown",
   "id": "e6ae18ea-8a52-4ad4-af86-f12f29f23d6a",
   "metadata": {},
   "source": [
    "`-` 예제5: 람다표현식들의 딕셔너리 "
   ]
  },
  {
   "cell_type": "markdown",
   "id": "22ed8a71-247a-474a-94e3-2b553e087663",
   "metadata": {},
   "source": [
    "`-` 예제6: 람다표현식을 리턴하는 함수 (함수를 리턴하는 함수) "
   ]
  },
  {
   "cell_type": "markdown",
   "id": "0a676a09-67dd-42a7-995a-98284f2ea798",
   "metadata": {},
   "source": [
    "`-` 예제7: 예제6의 다른표현 "
   ]
  },
  {
   "cell_type": "markdown",
   "id": "ce3cea2f-8c54-44ed-9321-5b3468aea6c0",
   "metadata": {},
   "source": [
    "### map "
   ]
  },
  {
   "cell_type": "markdown",
   "id": "a11580f3-1368-408a-8122-43970b8b0ae3",
   "metadata": {},
   "source": [
    "`-` 개념: $\\text{map}\\big(f,[x_1,\\dots,x_n]\\big)=\\big[f(x_1),\\dots,f(x_n)\\big]$"
   ]
  },
  {
   "cell_type": "markdown",
   "id": "8713f497-2545-427b-a8f4-b332e828ed37",
   "metadata": {},
   "source": [
    "`-` 예제1: map의 사용방법 "
   ]
  },
  {
   "cell_type": "code",
   "execution_count": 5,
   "id": "93b427ce-5fd3-492e-9cd0-750a868d0817",
   "metadata": {},
   "outputs": [],
   "source": [
    "x=[1,2,3]\n",
    "f= lambda x: x+1 "
   ]
  },
  {
   "cell_type": "code",
   "execution_count": 8,
   "id": "02f53a85-a8e4-47a6-9e4a-12abd8928526",
   "metadata": {},
   "outputs": [
    {
     "data": {
      "text/plain": [
       "[2, 3, 4]"
      ]
     },
     "execution_count": 8,
     "metadata": {},
     "output_type": "execute_result"
    }
   ],
   "source": [
    "y=list(map(f,x))\n",
    "y"
   ]
  },
  {
   "cell_type": "markdown",
   "id": "5feeb2bc-b0de-46b8-9036-393290484a2f",
   "metadata": {},
   "source": [
    "이렇게 쓸수도있어!~"
   ]
  },
  {
   "cell_type": "code",
   "execution_count": 9,
   "id": "36f1a544-d87f-4791-9894-2c0a53f9acb4",
   "metadata": {},
   "outputs": [
    {
     "data": {
      "text/plain": [
       "<map at 0x7fa578f39fd0>"
      ]
     },
     "execution_count": 9,
     "metadata": {},
     "output_type": "execute_result"
    }
   ],
   "source": [
    "map(lambda x: x+1, [1,2,3]) # 뭔가 만들어 졌는뎅"
   ]
  },
  {
   "cell_type": "code",
   "execution_count": 10,
   "id": "ef685830-0db6-4677-9615-307c5e3a54b6",
   "metadata": {},
   "outputs": [
    {
     "data": {
      "text/plain": [
       "[2, 3, 4]"
      ]
     },
     "execution_count": 10,
     "metadata": {},
     "output_type": "execute_result"
    }
   ],
   "source": [
    "list(map(lambda x: x+1, [1,2,3])) # 리스트화 시키면!~"
   ]
  },
  {
   "cell_type": "code",
   "execution_count": null,
   "id": "61dc3d04-9524-48c8-8d9b-7354b2414b56",
   "metadata": {},
   "outputs": [],
   "source": []
  },
  {
   "cell_type": "code",
   "execution_count": 48,
   "id": "dc74a842-1ca9-4c94-b1b5-7c0cdf2f293b",
   "metadata": {},
   "outputs": [
    {
     "data": {
      "text/plain": [
       "[False, False, False, False, True, True, True, True]"
      ]
     },
     "execution_count": 48,
     "metadata": {},
     "output_type": "execute_result"
    }
   ],
   "source": [
    "list(map(lambda x: x.isupper(),'asdfASDF'))"
   ]
  },
  {
   "cell_type": "markdown",
   "id": "f70498d7-4b7b-4ed0-88a7-296e3911458f",
   "metadata": {},
   "source": [
    "*(다른표현1)*"
   ]
  },
  {
   "cell_type": "code",
   "execution_count": 49,
   "id": "7d90cf7e-b714-46d1-b55a-8d706c6d5655",
   "metadata": {},
   "outputs": [
    {
     "data": {
      "text/plain": [
       "[False, False, False, False, True, True, True, True]"
      ]
     },
     "execution_count": 49,
     "metadata": {},
     "output_type": "execute_result"
    }
   ],
   "source": [
    "#\n",
    "# 2줄써야하네..\n",
    "f = lambda x: x.isupper()\n",
    "[f(s) for s in 'asdfASDF']"
   ]
  },
  {
   "cell_type": "markdown",
   "id": "eece993c-84bb-4eb6-aae1-77b8bf50ef88",
   "metadata": {},
   "source": [
    "*(다른표현2)*"
   ]
  },
  {
   "cell_type": "code",
   "execution_count": 50,
   "id": "b9639604-b211-4e1a-978d-55e1c5683587",
   "metadata": {},
   "outputs": [
    {
     "data": {
      "text/plain": [
       "[False, False, False, False, True, True, True, True]"
      ]
     },
     "execution_count": 50,
     "metadata": {},
     "output_type": "execute_result"
    }
   ],
   "source": [
    "#\n",
    "# 가독성이 별로..\n",
    "[(lambda x: x.isupper())(s) for s in 'asdfASDF']"
   ]
  },
  {
   "cell_type": "markdown",
   "id": "1aaedcb0-2306-4557-88f7-55894b342da8",
   "metadata": {},
   "source": [
    "*(다른표현3)-- 최악*"
   ]
  },
  {
   "cell_type": "code",
   "execution_count": 51,
   "id": "26957eed-06cb-486b-8f7a-39d4a55f2271",
   "metadata": {},
   "outputs": [],
   "source": [
    "result = [] \n",
    "string = 'asdfASDF'\n",
    "f = lambda x: x.isupper()\n",
    "for i in range(8):\n",
    "    result.append(f(string[i]))"
   ]
  },
  {
   "cell_type": "code",
   "execution_count": 52,
   "id": "b55041c2-7d8c-4d3a-9d16-94af822c8c78",
   "metadata": {},
   "outputs": [
    {
     "data": {
      "text/plain": [
       "[False, False, False, False, True, True, True, True]"
      ]
     },
     "execution_count": 52,
     "metadata": {},
     "output_type": "execute_result"
    }
   ],
   "source": [
    "result"
   ]
  },
  {
   "cell_type": "markdown",
   "id": "1e0e8260-c0de-4d31-96af-f6fc18d6b7fc",
   "metadata": {},
   "source": [
    "`-` 예제2: map의 결과는 iterable object임 (그 자체로 for문을 돌릴 수 있음) "
   ]
  },
  {
   "cell_type": "code",
   "execution_count": 53,
   "id": "ede7ef82-0727-4e82-8e17-38bcb5b2da51",
   "metadata": {},
   "outputs": [
    {
     "data": {
      "text/plain": [
       "<map at 0x7fd804142410>"
      ]
     },
     "execution_count": 53,
     "metadata": {},
     "output_type": "execute_result"
    }
   ],
   "source": [
    "mp = map(lambda x: x.isupper(),'asdfASDF')\n",
    "mp"
   ]
  },
  {
   "cell_type": "code",
   "execution_count": 54,
   "id": "f48ddedd-e742-47d3-ada2-ab0f3c3fab43",
   "metadata": {},
   "outputs": [
    {
     "data": {
      "text/plain": [
       "{'__iter__'}"
      ]
     },
     "execution_count": 54,
     "metadata": {},
     "output_type": "execute_result"
    }
   ],
   "source": [
    "set(dir(mp)) & {'__iter__'} # mp is iterable object"
   ]
  },
  {
   "cell_type": "code",
   "execution_count": 55,
   "id": "145c7085-6885-439e-b2df-1fc405b2679d",
   "metadata": {},
   "outputs": [
    {
     "name": "stdout",
     "output_type": "stream",
     "text": [
      "False\n",
      "False\n",
      "False\n",
      "False\n",
      "True\n",
      "True\n",
      "True\n",
      "True\n"
     ]
    }
   ],
   "source": [
    "for m in mp: \n",
    "    print(m)"
   ]
  },
  {
   "cell_type": "markdown",
   "id": "e7faab96-9a16-407a-bc02-327d2a9ea015",
   "metadata": {},
   "source": [
    "`-` 예제3: 두 개의 입력을 받는 함수 (리스트 컴프리헨션보다 뛰어남)"
   ]
  },
  {
   "cell_type": "code",
   "execution_count": 56,
   "id": "912141d8-3223-47a7-9838-65985d5f882b",
   "metadata": {},
   "outputs": [
    {
     "data": {
      "text/plain": [
       "[0, 0, 0]"
      ]
     },
     "execution_count": 56,
     "metadata": {},
     "output_type": "execute_result"
    }
   ],
   "source": [
    "list(map(lambda x,y: x+y,[1,2,3],[-1,-2,-3]))"
   ]
  },
  {
   "cell_type": "markdown",
   "id": "01f468e3-87df-4a98-8ef6-a39c70d4737b",
   "metadata": {},
   "source": [
    "*다른표현*"
   ]
  },
  {
   "cell_type": "code",
   "execution_count": 57,
   "id": "fea8cf16-95fa-418e-bc38-73998a0b71ea",
   "metadata": {},
   "outputs": [
    {
     "data": {
      "text/plain": [
       "[0, 0, 0]"
      ]
     },
     "execution_count": 57,
     "metadata": {},
     "output_type": "execute_result"
    }
   ],
   "source": [
    "f = lambda x,y: x+y \n",
    "[f(x,y) for x,y in zip([1,2,3],[-1,-2,-3])]"
   ]
  },
  {
   "cell_type": "markdown",
   "id": "0b9b82a7-a474-43e6-b3d9-13a38f7c8328",
   "metadata": {},
   "source": [
    "`-` 예제4: map은 \"하나의 함수에 다양한 입력\"을 적용하는 경우만 사용가능 (리스트컴프리헨션은 \"다양한 함수에 다양한 입력\" 지원)"
   ]
  },
  {
   "cell_type": "code",
   "execution_count": 58,
   "id": "310bc78d-485a-4931-90f2-bedb268a585f",
   "metadata": {},
   "outputs": [],
   "source": [
    "flst =[lambda x: x+1, lambda x: x+2, lambda x: x+3] "
   ]
  },
  {
   "cell_type": "markdown",
   "id": "e77941e8-a8bd-4f07-94e8-dfd5fdd12359",
   "metadata": {},
   "source": [
    "(실패)"
   ]
  },
  {
   "cell_type": "code",
   "execution_count": 59,
   "id": "40c7fcd5-afae-49c1-bfdb-9d3784afec36",
   "metadata": {},
   "outputs": [
    {
     "ename": "TypeError",
     "evalue": "'list' object is not callable",
     "output_type": "error",
     "traceback": [
      "\u001b[0;31m---------------------------------------------------------------------------\u001b[0m",
      "\u001b[0;31mTypeError\u001b[0m                                 Traceback (most recent call last)",
      "\u001b[0;32m/tmp/ipykernel_1457438/3313405704.py\u001b[0m in \u001b[0;36m<module>\u001b[0;34m\u001b[0m\n\u001b[0;32m----> 1\u001b[0;31m \u001b[0mlist\u001b[0m\u001b[0;34m(\u001b[0m\u001b[0mmap\u001b[0m\u001b[0;34m(\u001b[0m\u001b[0mflst\u001b[0m\u001b[0;34m,\u001b[0m\u001b[0;34m[\u001b[0m\u001b[0;36m0\u001b[0m\u001b[0;34m,\u001b[0m\u001b[0;36m0\u001b[0m\u001b[0;34m,\u001b[0m\u001b[0;36m0\u001b[0m\u001b[0;34m]\u001b[0m\u001b[0;34m)\u001b[0m\u001b[0;34m)\u001b[0m \u001b[0;31m# 출력으로 [1,2,3] 을 기대했으나..\u001b[0m\u001b[0;34m\u001b[0m\u001b[0;34m\u001b[0m\u001b[0m\n\u001b[0m",
      "\u001b[0;31mTypeError\u001b[0m: 'list' object is not callable"
     ]
    }
   ],
   "source": [
    "list(map(flst,[0,0,0])) # 출력으로 [1,2,3] 을 기대했으나.."
   ]
  },
  {
   "cell_type": "markdown",
   "id": "6e5079df-1c91-49e1-9132-e4379f2152e9",
   "metadata": {},
   "source": [
    "(성공) "
   ]
  },
  {
   "cell_type": "code",
   "execution_count": 60,
   "id": "4d681ff2-934f-4ac3-bb51-235dfd2291be",
   "metadata": {},
   "outputs": [
    {
     "data": {
      "text/plain": [
       "[1, 2, 3]"
      ]
     },
     "execution_count": 60,
     "metadata": {},
     "output_type": "execute_result"
    }
   ],
   "source": [
    "[flst[i](x) for i,x in zip([0,1,2],[0,0,0])]"
   ]
  },
  {
   "cell_type": "markdown",
   "id": "9a8174ab-2bdc-44aa-9150-23dd7860946e",
   "metadata": {},
   "source": [
    "`-` **종합: 리스트컴프리헨션과 비교하면 (1) 반복인덱스를 쓰지 않는 장점이 있는 반면 (2) 좀 더 제약적으로 사용할 수밖에 없다는 단점이 있음**"
   ]
  },
  {
   "cell_type": "code",
   "execution_count": null,
   "id": "f86751f3-aaf1-4ec0-8dad-be571ca5321e",
   "metadata": {},
   "outputs": [],
   "source": []
  },
  {
   "cell_type": "code",
   "execution_count": null,
   "id": "d0372c55-05f7-4e01-bd18-91c695cfdef0",
   "metadata": {},
   "outputs": [],
   "source": []
  }
 ],
 "metadata": {
  "kernelspec": {
   "display_name": "Python 3 (ipykernel)",
   "language": "python",
   "name": "python3"
  },
  "language_info": {
   "codemirror_mode": {
    "name": "ipython",
    "version": 3
   },
   "file_extension": ".py",
   "mimetype": "text/x-python",
   "name": "python",
   "nbconvert_exporter": "python",
   "pygments_lexer": "ipython3",
   "version": "3.7.13"
  }
 },
 "nbformat": 4,
 "nbformat_minor": 5
}
