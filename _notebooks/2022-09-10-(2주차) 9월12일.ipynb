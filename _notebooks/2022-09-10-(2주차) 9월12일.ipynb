{
 "cells": [
  {
   "cell_type": "markdown",
   "id": "32f42851-81a3-4997-b208-2ea501d0f1c3",
   "metadata": {
    "jp-MarkdownHeadingCollapsed": true,
    "tags": []
   },
   "source": [
    "# (2주차) 9월12일에 대한 보강\n",
    "> 9월14일 이후에 업로드 예정\n",
    "\n",
    "- toc:true\n",
    "- branch: master\n",
    "- badges: true\n",
    "- comments: true\n",
    "- author: 최규빈"
   ]
  },
  {
   "cell_type": "markdown",
   "id": "a48dbc7c-a0eb-4ca0-97f0-54997ab30bd3",
   "metadata": {},
   "source": [
    "`-` 추후 업로드 예정"
   ]
  }
 ],
 "metadata": {
  "kernelspec": {
   "display_name": "Python 3 (ipykernel)",
   "language": "python",
   "name": "python3"
  },
  "language_info": {
   "codemirror_mode": {
    "name": "ipython",
    "version": 3
   },
   "file_extension": ".py",
   "mimetype": "text/x-python",
   "name": "python",
   "nbconvert_exporter": "python",
   "pygments_lexer": "ipython3",
   "version": "3.7.13"
  }
 },
 "nbformat": 4,
 "nbformat_minor": 5
}
